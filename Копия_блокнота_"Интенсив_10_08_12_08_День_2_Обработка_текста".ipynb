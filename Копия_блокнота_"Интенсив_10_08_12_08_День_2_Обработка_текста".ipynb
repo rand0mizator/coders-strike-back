{
  "nbformat": 4,
  "nbformat_minor": 0,
  "metadata": {
    "colab": {
      "name": "Копия блокнота \"Интенсив 10.08-12.08. День #2. Обработка текста\"",
      "provenance": [],
      "collapsed_sections": [
        "4wwfOsB8YHiC",
        "EGoFeaFhQ8WP",
        "qQ8Qz-WCEQNw",
        "EKxMunXYb_5b",
        "hNeiRyb_YXus",
        "cZsdBFEdSl4v"
      ],
      "include_colab_link": true
    },
    "kernelspec": {
      "name": "python3",
      "display_name": "Python 3"
    },
    "language_info": {
      "name": "python"
    },
    "accelerator": "GPU"
  },
  "cells": [
    {
      "cell_type": "markdown",
      "metadata": {
        "id": "view-in-github",
        "colab_type": "text"
      },
      "source": [
        "<a href=\"https://colab.research.google.com/github/rand0mizator/coders-strike-back/blob/main/%D0%9A%D0%BE%D0%BF%D0%B8%D1%8F_%D0%B1%D0%BB%D0%BE%D0%BA%D0%BD%D0%BE%D1%82%D0%B0_%22%D0%98%D0%BD%D1%82%D0%B5%D0%BD%D1%81%D0%B8%D0%B2_10_08_12_08_%D0%94%D0%B5%D0%BD%D1%8C_2_%D0%9E%D0%B1%D1%80%D0%B0%D0%B1%D0%BE%D1%82%D0%BA%D0%B0_%D1%82%D0%B5%D0%BA%D1%81%D1%82%D0%B0%22.ipynb\" target=\"_parent\"><img src=\"https://colab.research.google.com/assets/colab-badge.svg\" alt=\"Open In Colab\"/></a>"
      ]
    },
    {
      "cell_type": "code",
      "metadata": {
        "id": "2OWwqj6QA-Qf",
        "colab": {
          "base_uri": "https://localhost:8080/"
        },
        "outputId": "a1c2c962-5a6c-4118-fcf6-c682c66350a3"
      },
      "source": [
        "!pip -q install terra_ai\n",
        "from terra_ai import терра_ии"
      ],
      "execution_count": null,
      "outputs": [
        {
          "output_type": "stream",
          "text": [
            "Все необходимые библиотеки установлены и готовы к работе\n"
          ],
          "name": "stdout"
        }
      ]
    },
    {
      "cell_type": "markdown",
      "metadata": {
        "id": "4wwfOsB8YHiC"
      },
      "source": [
        "# **Практический материал занятия**"
      ]
    },
    {
      "cell_type": "markdown",
      "metadata": {
        "id": "eCK0hXbJBve6"
      },
      "source": [
        "## Классификация отзывов автомобиля Тесла"
      ]
    },
    {
      "cell_type": "code",
      "metadata": {
        "id": "4B4li4ZELpXB",
        "colab": {
          "base_uri": "https://localhost:8080/"
        },
        "outputId": "eadd2f43-cd83-4bd1-b66f-65ccf185a27f"
      },
      "source": [
        "# Загружаем базу отзывов Tesla\n",
        "терра_ии.загрузить_базу(база='TESLA')"
      ],
      "execution_count": null,
      "outputs": [
        {
          "output_type": "stream",
          "text": [
            "Загрузка данных завершена \n",
            "\n",
            "url: https://storage.googleapis.com/terra_ai/DataSets/tesla.zip\n"
          ],
          "name": "stdout"
        }
      ]
    },
    {
      "cell_type": "code",
      "metadata": {
        "colab": {
          "base_uri": "https://localhost:8080/"
        },
        "id": "FA7euIAEvJro",
        "outputId": "01ca11ff-92d8-491d-95a1-e786723bb3ad"
      },
      "source": [
        "# Выводим примеры\n",
        "терра_ии.показать_примеры(база = 'TESLA')"
      ],
      "execution_count": null,
      "outputs": [
        {
          "output_type": "stream",
          "text": [
            "В данной базе находятся положительные и негативные отзывы об автомобилях Tesla:\n",
            "['Негативный отзыв', 'Позитивный отзыв']\n",
            "\n",
            "Пример отзыва:\n",
            "Тип отзыва:  Негативный отзыв\n",
            "Отзывы:\n",
            "     * После 170 на трассе она чувствует себя неуверенно.  Кстати сидения очень удобными тоже не назовёшь. \n"
          ],
          "name": "stdout"
        }
      ]
    },
    {
      "cell_type": "code",
      "metadata": {
        "colab": {
          "base_uri": "https://localhost:8080/"
        },
        "id": "qXAuLmzc0VLz",
        "outputId": "b4bc0e5b-2665-4bcf-ff0b-7983d731bd21"
      },
      "source": [
        "# Задаем параметры для формирования выборок\n",
        "количество_анализируемых_слов = '10000'\n",
        "размер_окна = '50'\n",
        "шаг = '10'\n",
        "# Создаем выборки для обучения нейронной сети\n",
        "(обучающая_выборка, метки_обучающей_выборки), (тестовая_выборка, метки_тестовой_выборки) = терра_ии.создать_текстовые_выборки(\n",
        "    количество_анализируемых_слов,\n",
        "    размер_окна,\n",
        "    шаг, \n",
        "    путь_к_базе = '/content/Отзывы/')"
      ],
      "execution_count": null,
      "outputs": [
        {
          "output_type": "stream",
          "text": [
            "Формирование выборки завершено\n"
          ],
          "name": "stdout"
        }
      ]
    },
    {
      "cell_type": "markdown",
      "metadata": {
        "id": "FPhfEdZqCulW"
      },
      "source": [
        "### Эксперименты"
      ]
    },
    {
      "cell_type": "code",
      "metadata": {
        "id": "biUc4-cgT_sc"
      },
      "source": [
        "# Эксперимент № 1\n",
        "# Уменьшенный размер эмбеддинг-пространства. Слабая нейронка (меньше слоев, меньше нейронов)\n",
        "ветвь1 = 'Эмбеддинг-2-'+ количество_анализируемых_слов + '-' + размер_окна + ' Выравнивающий Полносвязный-2'\n",
        "ветвь2 = 'Полносвязный-4 Полносвязный-2'\n",
        "ветвь3 = 'Полносвязный-2'\n",
        "нейронка_тесла_1 = терра_ии.создать_составную_сеть(обучающая_выборка, метки_обучающей_выборки, ветвь1, ветвь2, ветвь3)"
      ],
      "execution_count": null,
      "outputs": []
    },
    {
      "cell_type": "code",
      "metadata": {
        "colab": {
          "base_uri": "https://localhost:8080/",
          "height": 747
        },
        "id": "aEsKUCYbT_se",
        "outputId": "bf9946bf-b655-49e9-d155-34ba703bac04"
      },
      "source": [
        "# Обучаем модель\n",
        "эксперимент_1 = терра_ии.обучение_модели(\n",
        "    нейронка_тесла_1,\n",
        "    обучающая_выборка, метки_обучающей_выборки,\n",
        "    тестовая_выборка, метки_тестовой_выборки,\n",
        "    размер_пакета = 16,\n",
        "    количество_эпох = 20)"
      ],
      "execution_count": null,
      "outputs": [
        {
          "output_type": "stream",
          "text": [
            "Эпоха №1    Время обучения: 2.25c   Точность на обучающей выборке: 66.51%    Точность на проверочной выборке: 65.62%\n",
            "Эпоха №2    Время обучения: 1.51c   Точность на обучающей выборке: 98.4%     Точность на проверочной выборке: 87.5%\n",
            "Эпоха №3    Время обучения: 1.51c   Точность на обучающей выборке: 99.84%    Точность на проверочной выборке: 87.5%\n",
            "Эпоха №4    Время обучения: 1.51c   Точность на обучающей выборке: 99.95%    Точность на проверочной выборке: 90.62%\n",
            "Эпоха №5    Время обучения: 1.53c   Точность на обучающей выборке: 100.0%    Точность на проверочной выборке: 90.62%\n",
            "Эпоха №6    Время обучения: 1.48c   Точность на обучающей выборке: 100.0%    Точность на проверочной выборке: 90.62%\n",
            "Эпоха №7    Время обучения: 1.44c   Точность на обучающей выборке: 100.0%    Точность на проверочной выборке: 90.62%\n",
            "Эпоха №8    Время обучения: 1.44c   Точность на обучающей выборке: 100.0%    Точность на проверочной выборке: 90.62%\n",
            "Эпоха №9    Время обучения: 1.43c   Точность на обучающей выборке: 100.0%    Точность на проверочной выборке: 90.62%\n",
            "Эпоха №10   Время обучения: 1.44c   Точность на обучающей выборке: 100.0%    Точность на проверочной выборке: 90.62%\n",
            "Эпоха №11   Время обучения: 1.44c   Точность на обучающей выборке: 100.0%    Точность на проверочной выборке: 90.62%\n",
            "Эпоха №12   Время обучения: 1.42c   Точность на обучающей выборке: 100.0%    Точность на проверочной выборке: 90.62%\n",
            "Эпоха №13   Время обучения: 1.44c   Точность на обучающей выборке: 100.0%    Точность на проверочной выборке: 90.62%\n",
            "Эпоха №14   Время обучения: 1.42c   Точность на обучающей выборке: 100.0%    Точность на проверочной выборке: 90.62%\n",
            "Эпоха №15   Время обучения: 1.43c   Точность на обучающей выборке: 100.0%    Точность на проверочной выборке: 90.62%\n",
            "Эпоха №16   Время обучения: 1.46c   Точность на обучающей выборке: 100.0%    Точность на проверочной выборке: 90.62%\n",
            "Эпоха №17   Время обучения: 1.41c   Точность на обучающей выборке: 100.0%    Точность на проверочной выборке: 90.62%\n",
            "Эпоха №18   Время обучения: 1.39c   Точность на обучающей выборке: 100.0%    Точность на проверочной выборке: 90.62%\n",
            "Эпоха №19   Время обучения: 1.41c   Точность на обучающей выборке: 100.0%    Точность на проверочной выборке: 90.62%\n",
            "\u001b[42m\u001b[37mЭпоха №20   Время обучения: 1.42c   Точность на обучающей выборке: 100.0%    Точность на проверочной выборке: 90.62%\u001b[0m\n",
            "\n"
          ],
          "name": "stdout"
        },
        {
          "output_type": "display_data",
          "data": {
            "image/png": "[encoded data removed]",
            "text/plain": [
              "<Figure size 864x432 with 1 Axes>"
            ]
          },
          "metadata": {
            "tags": [],
            "needs_background": "light"
          }
        }
      ]
    },
    {
      "cell_type": "code",
      "metadata": {
        "colab": {
          "base_uri": "https://localhost:8080/"
        },
        "id": "1h64G7oVFT6d",
        "outputId": "376fbfaa-0faa-4102-d1f5-2f21b363b4cb"
      },
      "source": [
        "# Демонстрация результата работы нейронной сети\n",
        "отзыв = 'Машина скоростная. По трассе идет отлично'\n",
        "терра_ии.тест_модели_отзывы(нейронка_тесла_1, размер_окна, шаг,\n",
        "                              отзыв, классы = ['Негативный отзыв', 'Позитивный отзыв'])"
      ],
      "execution_count": null,
      "outputs": [
        {
          "output_type": "stream",
          "text": [
            "Негативный отзыв   -  0.85 %\n",
            "Позитивный отзыв   -  99.15 %\n",
            "\n",
            "Нейросеть думает, что это: Позитивный отзыв - 99.15%\n"
          ],
          "name": "stdout"
        }
      ]
    },
    {
      "cell_type": "code",
      "metadata": {
        "colab": {
          "base_uri": "https://localhost:8080/"
        },
        "id": "zFpyBWrxNOEa",
        "outputId": "c6650157-95f9-4221-81b1-46f95808d92d"
      },
      "source": [
        "# Демонстрация результата работы нейронной сети\n",
        "отзыв = 'Самая быстрая красивая мощная'\n",
        "терра_ии.тест_модели_отзывы(нейронка_тесла_1, размер_окна, шаг,\n",
        "                              отзыв, классы = ['Негативный отзыв', 'Позитивный отзыв'])"
      ],
      "execution_count": null,
      "outputs": [
        {
          "output_type": "stream",
          "text": [
            "Негативный отзыв   -  0.72 %\n",
            "Позитивный отзыв   -  99.28 %\n",
            "\n",
            "Нейросеть думает, что это: Позитивный отзыв - 99.28%\n"
          ],
          "name": "stdout"
        }
      ]
    },
    {
      "cell_type": "code",
      "metadata": {
        "id": "HGohAu4RTbf6"
      },
      "source": [
        "# Эксперимент № 2\n",
        "# Размер эмбеддинг-пространства чуть больше. Слабая нейронка.\n",
        "# Больший размер пакета при обучении\n",
        "ветвь1 = 'Эмбеддинг-10-' + количество_анализируемых_слов + '-' + размер_окна + ' Выравнивающий Полносвязный-8'\n",
        "ветвь2 = 'Полносвязный-32 Полносвязный-16 Полносвязный-8'\n",
        "ветвь3 = 'Полносвязный-8'\n",
        "нейронка_тесла_2 = терра_ии.создать_составную_сеть(обучающая_выборка, метки_обучающей_выборки, ветвь1, ветвь2, ветвь3)"
      ],
      "execution_count": null,
      "outputs": []
    },
    {
      "cell_type": "code",
      "metadata": {
        "colab": {
          "base_uri": "https://localhost:8080/",
          "height": 743
        },
        "id": "cc-66EjKTbf9",
        "outputId": "7f82cd43-486b-4e17-d853-12cc690efe15"
      },
      "source": [
        "# Обучаем модель\n",
        "эксперимент_2 = терра_ии.обучение_модели(\n",
        "    нейронка_тесла_2,\n",
        "    обучающая_выборка, метки_обучающей_выборки,\n",
        "    тестовая_выборка, метки_тестовой_выборки,\n",
        "    размер_пакета = 32,\n",
        "    количество_эпох = 20)"
      ],
      "execution_count": null,
      "outputs": [
        {
          "output_type": "stream",
          "text": [
            "Эпоха №1    Время обучения: 1.59c   Точность на обучающей выборке: 52.64%    Точность на проверочной выборке: 78.12%\n",
            "Эпоха №2    Время обучения: 0.9c    Точность на обучающей выборке: 91.66%    Точность на проверочной выборке: 87.5%\n",
            "Эпоха №3    Время обучения: 0.9c    Точность на обучающей выборке: 99.91%    Точность на проверочной выборке: 87.5%\n",
            "Эпоха №4    Время обучения: 0.9c    Точность на обучающей выборке: 100.0%    Точность на проверочной выборке: 87.5%\n",
            "Эпоха №5    Время обучения: 0.89c   Точность на обучающей выборке: 100.0%    Точность на проверочной выборке: 87.5%\n",
            "Эпоха №6    Время обучения: 0.92c   Точность на обучающей выборке: 100.0%    Точность на проверочной выборке: 87.5%\n",
            "Эпоха №7    Время обучения: 0.89c   Точность на обучающей выборке: 100.0%    Точность на проверочной выборке: 90.62%\n",
            "Эпоха №8    Время обучения: 0.9c    Точность на обучающей выборке: 100.0%    Точность на проверочной выборке: 90.62%\n",
            "Эпоха №9    Время обучения: 0.9c    Точность на обучающей выборке: 100.0%    Точность на проверочной выборке: 90.62%\n",
            "Эпоха №10   Время обучения: 0.9c    Точность на обучающей выборке: 100.0%    Точность на проверочной выборке: 90.62%\n",
            "Эпоха №11   Время обучения: 0.89c   Точность на обучающей выборке: 100.0%    Точность на проверочной выборке: 90.62%\n",
            "Эпоха №12   Время обучения: 0.94c   Точность на обучающей выборке: 100.0%    Точность на проверочной выборке: 90.62%\n",
            "Эпоха №13   Время обучения: 0.94c   Точность на обучающей выборке: 100.0%    Точность на проверочной выборке: 90.62%\n",
            "Эпоха №14   Время обучения: 0.86c   Точность на обучающей выборке: 100.0%    Точность на проверочной выборке: 90.62%\n",
            "Эпоха №15   Время обучения: 0.88c   Точность на обучающей выборке: 100.0%    Точность на проверочной выборке: 90.62%\n",
            "Эпоха №16   Время обучения: 0.88c   Точность на обучающей выборке: 100.0%    Точность на проверочной выборке: 90.62%\n",
            "Эпоха №17   Время обучения: 0.89c   Точность на обучающей выборке: 100.0%    Точность на проверочной выборке: 90.62%\n",
            "Эпоха №18   Время обучения: 0.9c    Точность на обучающей выборке: 100.0%    Точность на проверочной выборке: 90.62%\n",
            "Эпоха №19   Время обучения: 0.89c   Точность на обучающей выборке: 100.0%    Точность на проверочной выборке: 90.62%\n",
            "\u001b[42m\u001b[37mЭпоха №20   Время обучения: 0.89c   Точность на обучающей выборке: 100.0%    Точность на проверочной выборке: 90.62%\u001b[0m\n",
            "\n"
          ],
          "name": "stdout"
        },
        {
          "output_type": "display_data",
          "data": {
            "image/png": "[encoded data removed]",
            "text/plain": [
              "<Figure size 864x432 with 1 Axes>"
            ]
          },
          "metadata": {
            "tags": [],
            "needs_background": "light"
          }
        }
      ]
    },
    {
      "cell_type": "code",
      "metadata": {
        "colab": {
          "base_uri": "https://localhost:8080/"
        },
        "id": "vCHZwC5BFvo6",
        "outputId": "2f67132c-946e-464a-e517-c6daeac66994"
      },
      "source": [
        "# Демонстрация результата работы нейронной сети\n",
        "отзыв = 'Обзор не очень, зеркала маленькие, заднее стекло тоже'\n",
        "терра_ии.тест_модели_отзывы(нейронка_тесла_2, размер_окна, шаг,\n",
        "                              отзыв, классы = ['Негативный отзыв', 'Позитивный отзыв'])"
      ],
      "execution_count": null,
      "outputs": [
        {
          "output_type": "stream",
          "text": [
            "Негативный отзыв   -  72.14 %\n",
            "Позитивный отзыв   -  27.86 %\n",
            "\n",
            "Нейросеть думает, что это: Негативный отзыв - 72.14%\n"
          ],
          "name": "stdout"
        }
      ]
    },
    {
      "cell_type": "code",
      "metadata": {
        "colab": {
          "base_uri": "https://localhost:8080/"
        },
        "id": "CVch-8i4FFHo",
        "outputId": "88b2ef8c-dc65-4979-90da-c9dba5cd1983"
      },
      "source": [
        "# Демонстрация результата работы нейронной сети\n",
        "отзыв = 'Самая быстрая красивая мощная'\n",
        "терра_ии.тест_модели_отзывы(нейронка_тесла_2, размер_окна, шаг,\n",
        "                              отзыв, классы = ['Негативный отзыв', 'Позитивный отзыв'])"
      ],
      "execution_count": null,
      "outputs": [
        {
          "output_type": "stream",
          "text": [
            "Негативный отзыв   -  33.11 %\n",
            "Позитивный отзыв   -  66.89 %\n",
            "\n",
            "Нейросеть думает, что это: Позитивный отзыв - 66.89%\n"
          ],
          "name": "stdout"
        }
      ]
    },
    {
      "cell_type": "code",
      "metadata": {
        "id": "hJ3KQa-BTzDC"
      },
      "source": [
        "# Эксперимент № 3\n",
        "# Еще увеличим размер эмбеддинг-пространства. Нейронка посильнее.\n",
        "ветвь1 = 'Эмбеддинг-50-' + количество_анализируемых_слов + '-' + размер_окна + ' Выравнивающий Полносвязный-16'\n",
        "ветвь2 = 'Полносвязный-64 Полносвязный-32 Полносвязный-16'\n",
        "ветвь3 = 'Полносвязный-32'\n",
        "нейронка_тесла_3 = терра_ии.создать_составную_сеть(обучающая_выборка, метки_обучающей_выборки, ветвь1, ветвь2, ветвь3)"
      ],
      "execution_count": null,
      "outputs": []
    },
    {
      "cell_type": "code",
      "metadata": {
        "colab": {
          "base_uri": "https://localhost:8080/",
          "height": 743
        },
        "id": "EhhbSchnT7ie",
        "outputId": "8526f298-da45-4d0d-842d-4ea075cb6929"
      },
      "source": [
        "# Обучаем модель\n",
        "эксперимент_3 = терра_ии.обучение_модели(\n",
        "    нейронка_тесла_3,\n",
        "    обучающая_выборка, метки_обучающей_выборки,\n",
        "    тестовая_выборка, метки_тестовой_выборки,\n",
        "    размер_пакета = 32,\n",
        "    количество_эпох = 20)"
      ],
      "execution_count": null,
      "outputs": [
        {
          "output_type": "stream",
          "text": [
            "Эпоха №1    Время обучения: 2.21c   Точность на обучающей выборке: 61.51%    Точность на проверочной выборке: 43.75%\n",
            "Эпоха №2    Время обучения: 1.48c   Точность на обучающей выборке: 97.46%    Точность на проверочной выборке: 87.5%\n",
            "Эпоха №3    Время обучения: 1.5c    Точность на обучающей выборке: 99.99%    Точность на проверочной выборке: 87.5%\n",
            "Эпоха №4    Время обучения: 1.49c   Точность на обучающей выборке: 100.0%    Точность на проверочной выборке: 87.5%\n",
            "Эпоха №5    Время обучения: 1.47c   Точность на обучающей выборке: 100.0%    Точность на проверочной выборке: 87.5%\n",
            "Эпоха №6    Время обучения: 1.47c   Точность на обучающей выборке: 100.0%    Точность на проверочной выборке: 90.62%\n",
            "Эпоха №7    Время обучения: 1.58c   Точность на обучающей выборке: 100.0%    Точность на проверочной выборке: 90.62%\n",
            "Эпоха №8    Время обучения: 1.48c   Точность на обучающей выборке: 100.0%    Точность на проверочной выборке: 90.62%\n",
            "Эпоха №9    Время обучения: 1.49c   Точность на обучающей выборке: 100.0%    Точность на проверочной выборке: 90.62%\n",
            "Эпоха №10   Время обучения: 1.47c   Точность на обучающей выборке: 100.0%    Точность на проверочной выборке: 90.62%\n",
            "Эпоха №11   Время обучения: 1.47c   Точность на обучающей выборке: 100.0%    Точность на проверочной выборке: 90.62%\n",
            "Эпоха №12   Время обучения: 1.47c   Точность на обучающей выборке: 100.0%    Точность на проверочной выборке: 90.62%\n",
            "Эпоха №13   Время обучения: 1.47c   Точность на обучающей выборке: 100.0%    Точность на проверочной выборке: 90.62%\n",
            "Эпоха №14   Время обучения: 1.46c   Точность на обучающей выборке: 100.0%    Точность на проверочной выборке: 90.62%\n",
            "Эпоха №15   Время обучения: 1.46c   Точность на обучающей выборке: 100.0%    Точность на проверочной выборке: 90.62%\n",
            "Эпоха №16   Время обучения: 1.55c   Точность на обучающей выборке: 100.0%    Точность на проверочной выборке: 90.62%\n",
            "Эпоха №17   Время обучения: 1.47c   Точность на обучающей выборке: 100.0%    Точность на проверочной выборке: 90.62%\n",
            "Эпоха №18   Время обучения: 1.48c   Точность на обучающей выборке: 100.0%    Точность на проверочной выборке: 90.62%\n",
            "Эпоха №19   Время обучения: 1.47c   Точность на обучающей выборке: 100.0%    Точность на проверочной выборке: 90.62%\n",
            "\u001b[42m\u001b[37mЭпоха №20   Время обучения: 1.45c   Точность на обучающей выборке: 100.0%    Точность на проверочной выборке: 90.62%\u001b[0m\n",
            "\n"
          ],
          "name": "stdout"
        },
        {
          "output_type": "display_data",
          "data": {
            "image/png": "[encoded data removed]",
            "text/plain": [
              "<Figure size 864x432 with 1 Axes>"
            ]
          },
          "metadata": {
            "tags": [],
            "needs_background": "light"
          }
        }
      ]
    },
    {
      "cell_type": "code",
      "metadata": {
        "id": "JcZ8kpMsGJK_",
        "colab": {
          "base_uri": "https://localhost:8080/"
        },
        "outputId": "8855531e-82a2-4f3c-9663-9358d4a5798e"
      },
      "source": [
        "# Демонстрация результата работы нейронной сети\n",
        "отзыв = 'После 170 на трассе она чувствует себя неуверенно.'\n",
        "терра_ии.тест_модели_отзывы(нейронка_тесла_3, размер_окна, шаг,\n",
        "                              отзыв, классы = ['Негативный отзыв', 'Позитивный отзыв'])"
      ],
      "execution_count": null,
      "outputs": [
        {
          "output_type": "stream",
          "text": [
            "Негативный отзыв   -  44.95 %\n",
            "Позитивный отзыв   -  55.05 %\n",
            "\n",
            "Нейросеть думает, что это: Позитивный отзыв - 55.05%\n"
          ],
          "name": "stdout"
        }
      ]
    },
    {
      "cell_type": "code",
      "metadata": {
        "colab": {
          "base_uri": "https://localhost:8080/"
        },
        "id": "JO55TaU0FH8n",
        "outputId": "29caf4fc-8200-4b9e-a7f9-9b3eeb240ce3"
      },
      "source": [
        "# Демонстрация результата работы нейронной сети\n",
        "отзыв = 'Самая быстрая красивая мощная'\n",
        "терра_ии.тест_модели_отзывы(нейронка_тесла_3, размер_окна, шаг,\n",
        "                              отзыв, классы = ['Негативный отзыв', 'Позитивный отзыв'])"
      ],
      "execution_count": null,
      "outputs": [
        {
          "output_type": "stream",
          "text": [
            "Негативный отзыв   -  15.24 %\n",
            "Позитивный отзыв   -  84.76 %\n",
            "\n",
            "Нейросеть думает, что это: Позитивный отзыв - 84.76%\n"
          ],
          "name": "stdout"
        }
      ]
    },
    {
      "cell_type": "code",
      "metadata": {
        "id": "ltR_KF9jK1uu"
      },
      "source": [
        "# Эксперимент № 4\n",
        "# Более сильная нейронка\n",
        "ветвь1 = 'Эмбеддинг-100-' + количество_анализируемых_слов + '-' + размер_окна + ' Выравнивающий Полносвязный-32'\n",
        "ветвь2 = 'Полносвязный-128 Полносвязный-64 Полносвязный-32'\n",
        "ветвь3 = 'Полносвязный-32'\n",
        "нейронка_тесла_4 = терра_ии.создать_составную_сеть(обучающая_выборка, метки_обучающей_выборки, ветвь1, ветвь2, ветвь3)"
      ],
      "execution_count": null,
      "outputs": []
    },
    {
      "cell_type": "code",
      "metadata": {
        "id": "1EkEXDxSK1uw",
        "colab": {
          "base_uri": "https://localhost:8080/",
          "height": 743
        },
        "outputId": "499cc036-e2a1-470b-e841-36742fd45800"
      },
      "source": [
        "# Обучаем модель\n",
        "эксперимент_4 = терра_ии.обучение_модели(\n",
        "    нейронка_тесла_4,\n",
        "    обучающая_выборка, метки_обучающей_выборки,\n",
        "    тестовая_выборка, метки_тестовой_выборки,\n",
        "    размер_пакета = 32,\n",
        "    количество_эпох = 20)"
      ],
      "execution_count": null,
      "outputs": [
        {
          "output_type": "stream",
          "text": [
            "Эпоха №1    Время обучения: 3.07c   Точность на обучающей выборке: 70.95%    Точность на проверочной выборке: 75.0%\n",
            "Эпоха №2    Время обучения: 2.35c   Точность на обучающей выборке: 99.91%    Точность на проверочной выборке: 87.5%\n",
            "Эпоха №3    Время обучения: 2.33c   Точность на обучающей выборке: 100.0%    Точность на проверочной выборке: 87.5%\n",
            "Эпоха №4    Время обучения: 2.3c    Точность на обучающей выборке: 100.0%    Точность на проверочной выборке: 90.62%\n",
            "Эпоха №5    Время обучения: 2.26c   Точность на обучающей выборке: 100.0%    Точность на проверочной выборке: 90.62%\n",
            "Эпоха №6    Время обучения: 2.3c    Точность на обучающей выборке: 100.0%    Точность на проверочной выборке: 90.62%\n",
            "Эпоха №7    Время обучения: 2.27c   Точность на обучающей выборке: 100.0%    Точность на проверочной выборке: 90.62%\n",
            "Эпоха №8    Время обучения: 2.28c   Точность на обучающей выборке: 100.0%    Точность на проверочной выборке: 90.62%\n",
            "Эпоха №9    Время обучения: 2.31c   Точность на обучающей выборке: 100.0%    Точность на проверочной выборке: 90.62%\n",
            "Эпоха №10   Время обучения: 2.29c   Точность на обучающей выборке: 100.0%    Точность на проверочной выборке: 90.62%\n",
            "Эпоха №11   Время обучения: 2.39c   Точность на обучающей выборке: 100.0%    Точность на проверочной выборке: 90.62%\n",
            "Эпоха №12   Время обучения: 2.3c    Точность на обучающей выборке: 100.0%    Точность на проверочной выборке: 90.62%\n",
            "Эпоха №13   Время обучения: 2.28c   Точность на обучающей выборке: 100.0%    Точность на проверочной выборке: 90.62%\n",
            "Эпоха №14   Время обучения: 2.3c    Точность на обучающей выборке: 100.0%    Точность на проверочной выборке: 90.62%\n",
            "Эпоха №15   Время обучения: 2.33c   Точность на обучающей выборке: 100.0%    Точность на проверочной выборке: 90.62%\n",
            "Эпоха №16   Время обучения: 2.26c   Точность на обучающей выборке: 100.0%    Точность на проверочной выборке: 90.62%\n",
            "Эпоха №17   Время обучения: 2.42c   Точность на обучающей выборке: 100.0%    Точность на проверочной выборке: 90.62%\n",
            "Эпоха №18   Время обучения: 2.28c   Точность на обучающей выборке: 100.0%    Точность на проверочной выборке: 90.62%\n",
            "Эпоха №19   Время обучения: 2.27c   Точность на обучающей выборке: 100.0%    Точность на проверочной выборке: 90.62%\n",
            "\u001b[42m\u001b[37mЭпоха №20   Время обучения: 2.27c   Точность на обучающей выборке: 100.0%    Точность на проверочной выборке: 90.62%\u001b[0m\n",
            "\n"
          ],
          "name": "stdout"
        },
        {
          "output_type": "display_data",
          "data": {
            "image/png": "[encoded data removed]",
            "text/plain": [
              "<Figure size 864x432 with 1 Axes>"
            ]
          },
          "metadata": {
            "tags": [],
            "needs_background": "light"
          }
        }
      ]
    },
    {
      "cell_type": "code",
      "metadata": {
        "id": "opw4dK0EGpwj",
        "colab": {
          "base_uri": "https://localhost:8080/"
        },
        "outputId": "f0d63475-7187-4cb6-c273-f6f22904f476"
      },
      "source": [
        "# Демонстрация результата работы нейронной сети\n",
        "отзыв = 'Машина мне нравится, хоть она и дорогая. Удобная в эксплуатации'\n",
        "терра_ии.тест_модели_отзывы(нейронка_тесла_4, размер_окна, шаг,\n",
        "                              отзыв, классы = ['Негативный отзыв', 'Позитивный отзыв'])"
      ],
      "execution_count": null,
      "outputs": [
        {
          "output_type": "stream",
          "text": [
            "Негативный отзыв   -  38.97 %\n",
            "Позитивный отзыв   -  61.03 %\n",
            "\n",
            "Нейросеть думает, что это: Позитивный отзыв - 61.03%\n"
          ],
          "name": "stdout"
        }
      ]
    },
    {
      "cell_type": "code",
      "metadata": {
        "colab": {
          "base_uri": "https://localhost:8080/"
        },
        "id": "P9nk2JpgFMSe",
        "outputId": "ea1c5d35-acd0-4ba0-dc5f-623c7b61e9d1"
      },
      "source": [
        "# Демонстрация результата работы нейронной сети\n",
        "отзыв = 'Самая быстрая красивая мощная'\n",
        "терра_ии.тест_модели_отзывы(нейронка_тесла_4, размер_окна, шаг,\n",
        "                              отзыв, классы = ['Негативный отзыв', 'Позитивный отзыв'])"
      ],
      "execution_count": null,
      "outputs": [
        {
          "output_type": "stream",
          "text": [
            "Негативный отзыв   -  21.91 %\n",
            "Позитивный отзыв   -  78.09 %\n",
            "\n",
            "Нейросеть думает, что это: Позитивный отзыв - 78.09%\n"
          ],
          "name": "stdout"
        }
      ]
    },
    {
      "cell_type": "code",
      "metadata": {
        "id": "eE21RumeMfOM"
      },
      "source": [
        "# Эксперимент № 5\n",
        "# Еще усилим модель\n",
        "ветвь1 = 'Эмбеддинг-100-' + количество_анализируемых_слов + '-' + размер_окна + ' Выравнивающий Полносвязный-100'\n",
        "ветвь2 = 'Полносвязный-1024 Полносвязный-256 Полносвязный-64'\n",
        "ветвь3 = 'Полносвязный-100'\n",
        "нейронка_тесла_5 = терра_ии.создать_составную_сеть(обучающая_выборка, метки_обучающей_выборки, ветвь1, ветвь2, ветвь3)"
      ],
      "execution_count": null,
      "outputs": []
    },
    {
      "cell_type": "code",
      "metadata": {
        "id": "nsGSljYoMfON",
        "colab": {
          "base_uri": "https://localhost:8080/",
          "height": 743
        },
        "outputId": "610cbae7-aeec-4638-c1eb-c2b28a16d451"
      },
      "source": [
        "# Обучаем модель\n",
        "эксперимент_5 = терра_ии.обучение_модели(\n",
        "    нейронка_тесла_5,\n",
        "    обучающая_выборка, метки_обучающей_выборки,\n",
        "    тестовая_выборка, метки_тестовой_выборки,\n",
        "    размер_пакета = 16,\n",
        "    количество_эпох = 20)"
      ],
      "execution_count": null,
      "outputs": [
        {
          "output_type": "stream",
          "text": [
            "Эпоха №1    Время обучения: 4.83c   Точность на обучающей выборке: 90.55%    Точность на проверочной выборке: 93.75%\n",
            "Эпоха №2    Время обучения: 4.12c   Точность на обучающей выборке: 100.0%    Точность на проверочной выборке: 93.75%\n",
            "Эпоха №3    Время обучения: 4.14c   Точность на обучающей выборке: 100.0%    Точность на проверочной выборке: 90.62%\n",
            "Эпоха №4    Время обучения: 4.02c   Точность на обучающей выборке: 100.0%    Точность на проверочной выборке: 90.62%\n",
            "Эпоха №5    Время обучения: 3.97c   Точность на обучающей выборке: 100.0%    Точность на проверочной выборке: 93.75%\n",
            "Эпоха №6    Время обучения: 4.01c   Точность на обучающей выборке: 100.0%    Точность на проверочной выборке: 93.75%\n",
            "Эпоха №7    Время обучения: 3.98c   Точность на обучающей выборке: 100.0%    Точность на проверочной выборке: 93.75%\n",
            "Эпоха №8    Время обучения: 4.01c   Точность на обучающей выборке: 100.0%    Точность на проверочной выборке: 93.75%\n",
            "Эпоха №9    Время обучения: 3.99c   Точность на обучающей выборке: 100.0%    Точность на проверочной выборке: 93.75%\n",
            "Эпоха №10   Время обучения: 4.0c    Точность на обучающей выборке: 100.0%    Точность на проверочной выборке: 93.75%\n",
            "Эпоха №11   Время обучения: 4.1c    Точность на обучающей выборке: 100.0%    Точность на проверочной выборке: 93.75%\n",
            "Эпоха №12   Время обучения: 4.09c   Точность на обучающей выборке: 100.0%    Точность на проверочной выборке: 93.75%\n",
            "Эпоха №13   Время обучения: 4.17c   Точность на обучающей выборке: 100.0%    Точность на проверочной выборке: 93.75%\n",
            "Эпоха №14   Время обучения: 3.96c   Точность на обучающей выборке: 100.0%    Точность на проверочной выборке: 93.75%\n",
            "Эпоха №15   Время обучения: 3.98c   Точность на обучающей выборке: 100.0%    Точность на проверочной выборке: 93.75%\n",
            "Эпоха №16   Время обучения: 3.98c   Точность на обучающей выборке: 100.0%    Точность на проверочной выборке: 93.75%\n",
            "Эпоха №17   Время обучения: 3.96c   Точность на обучающей выборке: 100.0%    Точность на проверочной выборке: 93.75%\n",
            "Эпоха №18   Время обучения: 4.05c   Точность на обучающей выборке: 100.0%    Точность на проверочной выборке: 93.75%\n",
            "Эпоха №19   Время обучения: 3.99c   Точность на обучающей выборке: 100.0%    Точность на проверочной выборке: 93.75%\n",
            "\u001b[42m\u001b[37mЭпоха №20   Время обучения: 4.08c   Точность на обучающей выборке: 100.0%    Точность на проверочной выборке: 93.75%\u001b[0m\n",
            "\n"
          ],
          "name": "stdout"
        },
        {
          "output_type": "display_data",
          "data": {
            "image/png": "[encoded data removed]",
            "text/plain": [
              "<Figure size 864x432 with 1 Axes>"
            ]
          },
          "metadata": {
            "tags": [],
            "needs_background": "light"
          }
        }
      ]
    },
    {
      "cell_type": "code",
      "metadata": {
        "id": "2pm-23ZlHHMa",
        "colab": {
          "base_uri": "https://localhost:8080/"
        },
        "outputId": "38b0bfd6-12dc-4aaf-9533-91a01c205787"
      },
      "source": [
        "# Демонстрация результата работы нейронной сети\n",
        "отзыв = 'Нереально шикарная машина. Нет слов просто. Мечта!'\n",
        "терра_ии.тест_модели_отзывы(нейронка_тесла_5, размер_окна, шаг,\n",
        "                              отзыв, классы = ['Негативный отзыв', 'Позитивный отзыв'])"
      ],
      "execution_count": null,
      "outputs": [
        {
          "output_type": "stream",
          "text": [
            "Негативный отзыв   -  37.25 %\n",
            "Позитивный отзыв   -  62.75 %\n",
            "\n",
            "Нейросеть думает, что это: Позитивный отзыв - 62.75%\n"
          ],
          "name": "stdout"
        }
      ]
    },
    {
      "cell_type": "code",
      "metadata": {
        "colab": {
          "base_uri": "https://localhost:8080/"
        },
        "id": "yYGeoYPMFPuL",
        "outputId": "486ddfba-f48c-4c93-ed2e-7f417e25cfee"
      },
      "source": [
        "# Демонстрация результата работы нейронной сети\n",
        "отзыв = 'Самая быстрая красивая мощная'\n",
        "терра_ии.тест_модели_отзывы(нейронка_тесла_5, размер_окна, шаг,\n",
        "                              отзыв, классы = ['Негативный отзыв', 'Позитивный отзыв'])"
      ],
      "execution_count": null,
      "outputs": [
        {
          "output_type": "stream",
          "text": [
            "Негативный отзыв   -  57.34 %\n",
            "Позитивный отзыв   -  42.66 %\n",
            "\n",
            "Нейросеть думает, что это: Негативный отзыв - 57.34%\n"
          ],
          "name": "stdout"
        }
      ]
    },
    {
      "cell_type": "code",
      "metadata": {
        "id": "LK_qAByodRsY"
      },
      "source": [
        "# Эксперимент № 6\n",
        "# Сильная модель. Еще больший размер эмбеддинг-пространства\n",
        "ветвь1 = 'Эмбеддинг-300-' + количество_анализируемых_слов + '-' + размер_окна + ' Выравнивающий Полносвязный-200'\n",
        "ветвь2 = 'Полносвязный-4096 Полносвязный-512 Полносвязный-128' \n",
        "ветвь3 = 'Полносвязный-100'\n",
        "\n",
        "нейронка_тесла_6 = терра_ии.создать_составную_сеть(\n",
        "    обучающая_выборка, метки_обучающей_выборки,\n",
        "    ветвь1, ветвь2, ветвь3)"
      ],
      "execution_count": null,
      "outputs": []
    },
    {
      "cell_type": "code",
      "metadata": {
        "id": "C6t0xTcldRsl",
        "colab": {
          "base_uri": "https://localhost:8080/",
          "height": 743
        },
        "outputId": "3f051167-e31a-4863-ccf5-2fa304d47020"
      },
      "source": [
        "# Обучаем модель\n",
        "эксперимент_6 = терра_ии.обучение_модели(\n",
        "    нейронка_тесла_6,\n",
        "    обучающая_выборка, метки_обучающей_выборки,\n",
        "    тестовая_выборка, метки_тестовой_выборки,\n",
        "    размер_пакета = 16,\n",
        "    количество_эпох = 20)"
      ],
      "execution_count": null,
      "outputs": [
        {
          "output_type": "stream",
          "text": [
            "Эпоха №1    Время обучения: 12.92c  Точность на обучающей выборке: 93.62%    Точность на проверочной выборке: 87.5%\n",
            "Эпоха №2    Время обучения: 11.43c  Точность на обучающей выборке: 100.0%    Точность на проверочной выборке: 87.5%\n",
            "Эпоха №3    Время обучения: 11.47c  Точность на обучающей выборке: 100.0%    Точность на проверочной выборке: 87.5%\n",
            "Эпоха №4    Время обучения: 11.36c  Точность на обучающей выборке: 100.0%    Точность на проверочной выборке: 87.5%\n",
            "Эпоха №5    Время обучения: 11.44c  Точность на обучающей выборке: 100.0%    Точность на проверочной выборке: 87.5%\n",
            "Эпоха №6    Время обучения: 11.48c  Точность на обучающей выборке: 100.0%    Точность на проверочной выборке: 87.5%\n",
            "Эпоха №7    Время обучения: 11.44c  Точность на обучающей выборке: 100.0%    Точность на проверочной выборке: 87.5%\n",
            "Эпоха №8    Время обучения: 11.51c  Точность на обучающей выборке: 100.0%    Точность на проверочной выборке: 90.62%\n",
            "Эпоха №9    Время обучения: 11.43c  Точность на обучающей выборке: 100.0%    Точность на проверочной выборке: 90.62%\n",
            "Эпоха №10   Время обучения: 11.38c  Точность на обучающей выборке: 100.0%    Точность на проверочной выборке: 90.62%\n",
            "Эпоха №11   Время обучения: 11.45c  Точность на обучающей выборке: 100.0%    Точность на проверочной выборке: 90.62%\n",
            "Эпоха №12   Время обучения: 11.41c  Точность на обучающей выборке: 100.0%    Точность на проверочной выборке: 90.62%\n",
            "Эпоха №13   Время обучения: 11.47c  Точность на обучающей выборке: 100.0%    Точность на проверочной выборке: 90.62%\n",
            "Эпоха №14   Время обучения: 11.41c  Точность на обучающей выборке: 100.0%    Точность на проверочной выборке: 90.62%\n",
            "Эпоха №15   Время обучения: 11.44c  Точность на обучающей выборке: 100.0%    Точность на проверочной выборке: 90.62%\n",
            "Эпоха №16   Время обучения: 11.39c  Точность на обучающей выборке: 100.0%    Точность на проверочной выборке: 90.62%\n",
            "Эпоха №17   Время обучения: 11.43c  Точность на обучающей выборке: 100.0%    Точность на проверочной выборке: 90.62%\n",
            "Эпоха №18   Время обучения: 11.32c  Точность на обучающей выборке: 100.0%    Точность на проверочной выборке: 90.62%\n",
            "Эпоха №19   Время обучения: 11.48c  Точность на обучающей выборке: 100.0%    Точность на проверочной выборке: 90.62%\n",
            "\u001b[42m\u001b[37mЭпоха №20   Время обучения: 11.41c  Точность на обучающей выборке: 100.0%    Точность на проверочной выборке: 90.62%\u001b[0m\n",
            "\n"
          ],
          "name": "stdout"
        },
        {
          "output_type": "display_data",
          "data": {
            "image/png": "[encoded data removed]",
            "text/plain": [
              "<Figure size 864x432 with 1 Axes>"
            ]
          },
          "metadata": {
            "tags": [],
            "needs_background": "light"
          }
        }
      ]
    },
    {
      "cell_type": "code",
      "metadata": {
        "id": "vCDqkfcqHVyY",
        "colab": {
          "base_uri": "https://localhost:8080/"
        },
        "outputId": "f5d79fc1-aa2d-4d88-83b0-0af31dd8585c"
      },
      "source": [
        "# Демонстрация результата работы нейронной сети\n",
        "отзыв = 'Главная проблема у Тесла это дизайн'\n",
        "терра_ии.тест_модели_отзывы(нейронка_тесла_6, размер_окна, шаг,\n",
        "                              отзыв, классы = ['Негативный отзыв', 'Позитивный отзыв'])"
      ],
      "execution_count": null,
      "outputs": [
        {
          "output_type": "stream",
          "text": [
            "Негативный отзыв   -  70.18 %\n",
            "Позитивный отзыв   -  29.82 %\n",
            "\n",
            "Нейросеть думает, что это: Негативный отзыв - 70.18%\n"
          ],
          "name": "stdout"
        }
      ]
    },
    {
      "cell_type": "code",
      "metadata": {
        "colab": {
          "base_uri": "https://localhost:8080/"
        },
        "id": "R06qwEW_FXDs",
        "outputId": "83a145ca-5520-4714-fb1e-caf44b623aa5"
      },
      "source": [
        "# Демонстрация результата работы нейронной сети\n",
        "отзыв = 'Самая быстрая красивая мощная'\n",
        "терра_ии.тест_модели_отзывы(нейронка_тесла_6, размер_окна, шаг,\n",
        "                              отзыв, классы = ['Негативный отзыв', 'Позитивный отзыв'])"
      ],
      "execution_count": null,
      "outputs": [
        {
          "output_type": "stream",
          "text": [
            "Негативный отзыв   -  20.38 %\n",
            "Позитивный отзыв   -  79.62 %\n",
            "\n",
            "Нейросеть думает, что это: Позитивный отзыв - 79.62%\n"
          ],
          "name": "stdout"
        }
      ]
    },
    {
      "cell_type": "markdown",
      "metadata": {
        "id": "EGoFeaFhQ8WP"
      },
      "source": [
        "## Определение стоимости квартиры в Москве"
      ]
    },
    {
      "cell_type": "code",
      "metadata": {
        "id": "D35SEM9MSSeg",
        "colab": {
          "base_uri": "https://localhost:8080/"
        },
        "outputId": "9b0bacc6-b53c-4ab4-bfcb-ab5c7ca672f8"
      },
      "source": [
        "# Загружаем базу квартир\n",
        "терра_ии.загрузить_базу(база = 'КВАРТИРЫ', \n",
        "                   справка = 'Показать')"
      ],
      "execution_count": null,
      "outputs": [
        {
          "output_type": "stream",
          "text": [
            "Загрузка данных завершена \n",
            "\n",
            "url: https://storage.googleapis.com/terra_ai/DataSets/moscow.csv\n",
            "Загружена база квартир\n",
            "\n"
          ],
          "name": "stdout"
        }
      ]
    },
    {
      "cell_type": "code",
      "metadata": {
        "id": "cBD89kiPV2Eu",
        "colab": {
          "base_uri": "https://localhost:8080/"
        },
        "outputId": "b4f7ca5e-8142-4e1e-fec2-978dec286be8"
      },
      "source": [
        "# Показываем примеры\n",
        "терра_ии.показать_пример_квартиры(количество=3)"
      ],
      "execution_count": null,
      "outputs": [
        {
          "output_type": "stream",
          "text": [
            "* Пример объявления: \n",
            "\n",
            "Количество комнат:  1\n",
            "Площадь квартиры:   35.7/10.1/17\n",
            "Метро/ЖД станция:   Братиславская м.\n",
            "От станции:         20т\n",
            "Дом:                2/16 П\n",
            "Балкон:             \n",
            "Санузел:            С\n",
            "Примечание:         Новостройка! Продается 1-комн. кв-ра площадью 35,7 кв.м, (Блок 2, Секция 6) 2 этаж 16-этажного дома в ЖК \"Люблинский парк\" от Группы ПИК. Жилой комплекс \"Люблинский парк\" расположен в московском районе Люблино, в 10 минутах пешком от станции метро \"Братиславская\". Дорога до центра Москвы занимает 30 минут. Квартальная застройка предполагает 27 жилых домов переменной этажности и собственную инфраструктуру - две школы, пять детских садов и поликлиника. Корпуса возводятся по проекту индустриальной серии ПИК2 с просторными подъездами, высокими потолками, витражным остеклением и двумя входами: со двора и с улицы. Входы расположены на уровне земли, без ступеней и пандусов. В корпусах установлены бесшумные скоростные лифты. На первых этажах предусмотрены помещения для магазинов и сервисов услуг, а в подземной части - кладовые. Дворы-парки с детскими и спортивными площадками закрыты для проезда автомобилей. Жилой комплекс возводится в благоустроенном районе. В пешей доступности находятся детские сады, школы, поликлиники, торговые центры \"Л-153\", \"Экстра\", гипермаркеты \"Ашан\" и \"Эльдорадо\". Рядом располагаются живописные парки - Люблинский, Коломенское, 850-летия Москвы и Парк героев 1812 года. #d24.07# (Застройщик ООО \"ЛЮБЛИНО ДЕВЕЛОПМЕНТ\")#yan19-2r787151#\n",
            "-----------\n",
            "Цена квартиры:     5 млн  487 тыс рублей\n",
            "---------------------------------------------------------------------------------------------------------------\n",
            "\n",
            "* Пример объявления: \n",
            "\n",
            "Количество комнат:  1\n",
            "Площадь квартиры:   42.6/?/?\n",
            "Метро/ЖД станция:   Водный стадион м.\n",
            "От станции:         11п\n",
            "Дом:                30/36 ?\n",
            "Балкон:             \n",
            "Санузел:            \n",
            "Примечание:         ЖК Маяковский. Продается квартира свободной планировки. 600 м от метро Водный стадион. Новостройка от застройщика. Панорамное остекление, высокие потолки, бесшумные современные лифты. Из окон открывается красивый вид на Москву. В шаговой доступности парк, пруды и пляж. Монолит. Подземный паркинг, двор без машин. Свой детский сад, фитнес с бассейном. Огороженная территория. Охрана. Звоните! Подробнее по телефону!\n",
            "-----------\n",
            "Цена квартиры:     9 млн  576 тыс рублей\n",
            "---------------------------------------------------------------------------------------------------------------\n",
            "\n",
            "* Пример объявления: \n",
            "\n",
            "Количество комнат:  1\n",
            "Площадь квартиры:   41.8/14.7/19.3\n",
            "Метро/ЖД станция:   Зябликово м.\n",
            "От станции:         4п\n",
            "Дом:                13/30 М\n",
            "Балкон:             \n",
            "Санузел:            С\n",
            "Примечание:         ID в ИМЛС: 15724236 Офис продаж ЖК \"FRESH\". Комнаты - изолированные. без ремонта. Серия дома - Индивидуальный проект. Новый корпус в продаже! ЖК \"Фреш\". По всем вопросам обращайтесь в офис продаж, мы вам все подробно расскажем! 1-комн. квартира от застройщика в ЖК \"FRESH\" на 13 этаже. Общая площадь: 41.8 кв.м., жилая: 14.7 кв.м., площадь просторной кухни: 19.3 кв.м. В квартире один совмещенный санузел. Высота потолков 3.0 м. В квартире будут установлены панорамные стеклопакеты с повышенной тепло- и шумоизоляцией, заведены все коммуникации, установлены элементы отопления. Вы сможете реализовать самые смелые идеи в обустройстве своего нового дома. Старт продаж нового корпуса ЖК FRESH. Корпус расположен на границе парка долины реки Шмелевка. Из окон многих квартир открываются чудесные панорамы зеленого юга Москвы. В продаже представлены квартиры рациональных планировок, в том числе евроформаты с просторными кухнями-гостиными. Площади квартир: 24,3 м2 - 80,1 м2. ЖК FRESH- современный проект комфорт-класса в 3 мин. от м. \"Красногвардейская\". Дом монолитный, одноподъездный, высотой 30 этажей. На этаже 13 квартир. В подъезде 2 пассажирских и 4 грузовых лифта. Окончание строительства - 1 квартал 2022 года. Оформление сделки по договору долевого участия. В шаговой доступности от жилого комплекса находятся станции метро: \"Зябликово\" (200 м), \"Красногвардейская\" (400 м), \"Шипиловская\" (1.1 км). Профессиональная управляющая компания, служба консьержей, круглосуточная охрана. На первых этажах - минимаркет, кафе, кафетерий, булочная, магазины и другие объекты торговли, сервиса и досуга. Большой и зеленый прогулочный двор. Уютные зоны отдыха с беседками, игровые площадки для детей разного возраста, универсальная спортивная площадка. Круглосуточная охрана, системы контроля доступа и видеонаблюдения. Рядом с домом проходят сразу две линии метро: всего в 100-150 метрах - станция \"Зябликово\" (Люблинско-Дмитровская линия) и станция \"Красногвардейская\" (Замоскворецкая линия). В 2,5 км от комплекса - удобный выезд на МКАД с Каширского шоссе. Аккредитация в банках: АО \"Райффайзенбанк\", ОАО \"Альфа-Банк\", ПАО \"Банк Уралсиб\", ПАО \"Газпромбанк\", ПАО Банк \"ВТБ\" и других. (AQID01073059)\n",
            "-----------\n",
            "Цена квартиры:     8 млн  422 тыс рублей\n",
            "---------------------------------------------------------------------------------------------------------------\n",
            "\n"
          ],
          "name": "stdout"
        }
      ]
    },
    {
      "cell_type": "code",
      "metadata": {
        "id": "F-rMg8XGV6_z"
      },
      "source": [
        "# Создаем выборки\n",
        "(обучающая_выборка, метки_обучающей_выборки), (тестовая_выборка, метки_тестовой_выборки), инструменты = терра_ии.создать_выборки_квартир()"
      ],
      "execution_count": null,
      "outputs": []
    },
    {
      "cell_type": "code",
      "metadata": {
        "id": "bo3PH6J-X3M4"
      },
      "source": [
        "ветвь1 = 'Полносвязный-100 Полносвязный-50-linear'\n",
        "ветвь2 = 'Полносвязный-500-linear'\n",
        "финальная_часть = 'Полносвязный-1000 Полносвязный-500 Полносвязный-100 Полносвязный-1-linear'\n",
        "нейронка_квартиры_1 = терра_ии.создать_составную_сеть_квартиры(обучающая_выборка, ветвь1, ветвь2, финальная_часть)"
      ],
      "execution_count": null,
      "outputs": []
    },
    {
      "cell_type": "code",
      "metadata": {
        "id": "_xGgT31EbLLV",
        "colab": {
          "base_uri": "https://localhost:8080/",
          "height": 497
        },
        "outputId": "1b6cfa5a-2a92-4a7f-e3f4-9dd3bd0865b3"
      },
      "source": [
        "# Выводим схему модели\n",
        "терра_ии.схема_модели(нейронка_квартиры_1)"
      ],
      "execution_count": null,
      "outputs": [
        {
          "output_type": "stream",
          "text": [
            "Схема модели:\n"
          ],
          "name": "stdout"
        },
        {
          "output_type": "execute_result",
          "data": {
            "image/png": "[encoded data removed]",
            "text/plain": [
              "<IPython.core.display.Image object>"
            ]
          },
          "metadata": {
            "tags": []
          },
          "execution_count": 14
        }
      ]
    },
    {
      "cell_type": "code",
      "metadata": {
        "id": "oNsOBp4cby-j",
        "colab": {
          "base_uri": "https://localhost:8080/",
          "height": 1000
        },
        "outputId": "7a488409-ad8a-4121-9efc-6f6587836488"
      },
      "source": [
        "# Обучаем модель\n",
        "эксперимент_1 = терра_ии.обучение_модели_квартиры(\n",
        "    нейронка_квартиры_1,\n",
        "    обучающая_выборка, метки_обучающей_выборки,\n",
        "    тестовая_выборка, метки_тестовой_выборки,\n",
        "    размер_пакета = 256,\n",
        "    количество_эпох = 40,\n",
        "    инструменты = инструменты)"
      ],
      "execution_count": null,
      "outputs": [
        {
          "output_type": "stream",
          "text": [
            "Эпоха №1  Время обучения: 6.16c  Ошибка на обучающей выборке: 1.825млн       Ошибка на проверочной выборке: 1.807млн\n",
            "Эпоха №2  Время обучения: 3.15c  Ошибка на обучающей выборке: 1.665млн       Ошибка на проверочной выборке: 1.671млн\n",
            "Эпоха №3  Время обучения: 4.43c  Ошибка на обучающей выборке: 1.211млн       Ошибка на проверочной выборке: 1.248млн\n",
            "Эпоха №4  Время обучения: 4.41c  Ошибка на обучающей выборке: 1.299млн       Ошибка на проверочной выборке: 1.322млн\n",
            "Эпоха №5  Время обучения: 3.21c  Ошибка на обучающей выборке: 1.018млн       Ошибка на проверочной выборке: 1.095млн\n",
            "Эпоха №6  Время обучения: 3.38c  Ошибка на обучающей выборке: 1.031млн       Ошибка на проверочной выборке: 1.125млн\n",
            "Эпоха №7  Время обучения: 4.46c  Ошибка на обучающей выборке: 0.786млн       Ошибка на проверочной выборке: 1.007млн\n",
            "Эпоха №8  Время обучения: 3.14c  Ошибка на обучающей выборке: 0.834млн       Ошибка на проверочной выборке: 0.997млн\n",
            "Эпоха №9  Время обучения: 3.37c  Ошибка на обучающей выборке: 0.922млн       Ошибка на проверочной выборке: 1.018млн\n",
            "Эпоха №10 Время обучения: 4.23c  Ошибка на обучающей выборке: 1.029млн       Ошибка на проверочной выборке: 1.173млн\n",
            "Эпоха №11 Время обучения: 4.44c  Ошибка на обучающей выборке: 0.745млн       Ошибка на проверочной выборке: 0.934млн\n",
            "Эпоха №12 Время обучения: 3.36c  Ошибка на обучающей выборке: 0.752млн       Ошибка на проверочной выборке: 0.95млн\n",
            "Эпоха №13 Время обучения: 4.41c  Ошибка на обучающей выборке: 0.795млн       Ошибка на проверочной выборке: 0.951млн\n",
            "Эпоха №14 Время обучения: 4.23c  Ошибка на обучающей выборке: 0.853млн       Ошибка на проверочной выборке: 1.007млн\n",
            "Эпоха №15 Время обучения: 3.14c  Ошибка на обучающей выборке: 0.75млн        Ошибка на проверочной выборке: 0.923млн\n",
            "Эпоха №16 Время обучения: 4.46c  Ошибка на обучающей выборке: 0.827млн       Ошибка на проверочной выборке: 0.946млн\n",
            "Эпоха №17 Время обучения: 4.46c  Ошибка на обучающей выборке: 0.723млн       Ошибка на проверочной выборке: 0.919млн\n",
            "Эпоха №18 Время обучения: 4.26c  Ошибка на обучающей выборке: 0.628млн       Ошибка на проверочной выборке: 0.887млн\n",
            "Эпоха №19 Время обучения: 3.52c  Ошибка на обучающей выборке: 0.574млн       Ошибка на проверочной выборке: 0.885млн\n",
            "Эпоха №20 Время обучения: 3.13c  Ошибка на обучающей выборке: 0.657млн       Ошибка на проверочной выборке: 0.9млн\n",
            "Эпоха №21 Время обучения: 3.44c  Ошибка на обучающей выборке: 0.642млн       Ошибка на проверочной выборке: 0.869млн\n",
            "Эпоха №22 Время обучения: 4.19c  Ошибка на обучающей выборке: 0.632млн       Ошибка на проверочной выборке: 0.86млн\n",
            "Эпоха №23 Время обучения: 3.16c  Ошибка на обучающей выборке: 0.834млн       Ошибка на проверочной выборке: 1.037млн\n",
            "Эпоха №24 Время обучения: 3.15c  Ошибка на обучающей выборке: 0.684млн       Ошибка на проверочной выборке: 0.896млн\n",
            "Эпоха №25 Время обучения: 4.13c  Ошибка на обучающей выборке: 0.727млн       Ошибка на проверочной выборке: 0.904млн\n",
            "Эпоха №26 Время обучения: 3.41c  Ошибка на обучающей выборке: 0.732млн       Ошибка на проверочной выборке: 0.953млн\n",
            "Эпоха №27 Время обучения: 3.18c  Ошибка на обучающей выборке: 0.563млн       Ошибка на проверочной выборке: 0.792млн\n",
            "Эпоха №28 Время обучения: 3.13c  Ошибка на обучающей выборке: 0.701млн       Ошибка на проверочной выборке: 0.937млн\n",
            "Эпоха №29 Время обучения: 3.15c  Ошибка на обучающей выборке: 0.681млн       Ошибка на проверочной выборке: 0.855млн\n",
            "Эпоха №30 Время обучения: 4.2c   Ошибка на обучающей выборке: 0.603млн       Ошибка на проверочной выборке: 0.829млн\n",
            "Эпоха №31 Время обучения: 3.13c  Ошибка на обучающей выборке: 0.542млн       Ошибка на проверочной выборке: 0.801млн\n",
            "Эпоха №32 Время обучения: 4.14c  Ошибка на обучающей выборке: 0.557млн       Ошибка на проверочной выборке: 0.86млн\n",
            "Эпоха №33 Время обучения: 4.46c  Ошибка на обучающей выборке: 0.351млн       Ошибка на проверочной выборке: 0.708млн\n",
            "Эпоха №34 Время обучения: 3.43c  Ошибка на обучающей выборке: 0.325млн       Ошибка на проверочной выборке: 0.701млн\n",
            "Эпоха №35 Время обучения: 4.5c   Ошибка на обучающей выборке: 0.286млн       Ошибка на проверочной выборке: 0.686млн\n",
            "Эпоха №36 Время обучения: 4.21c  Ошибка на обучающей выборке: 0.275млн       Ошибка на проверочной выборке: 0.674млн\n",
            "Эпоха №37 Время обучения: 4.18c  Ошибка на обучающей выборке: 0.28млн        Ошибка на проверочной выборке: 0.673млн\n",
            "\u001b[42m\u001b[37mЭпоха №38 Время обучения: 3.16c  Ошибка на обучающей выборке: 0.256млн       Ошибка на проверочной выборке: 0.665млн\u001b[0m\n",
            "Эпоха №39 Время обучения: 3.33c  Ошибка на обучающей выборке: 0.258млн       Ошибка на проверочной выборке: 0.669млн\n",
            "Эпоха №40 Время обучения: 3.43c  Ошибка на обучающей выборке: 0.275млн       Ошибка на проверочной выборке: 0.673млн\n",
            "\n"
          ],
          "name": "stdout"
        },
        {
          "output_type": "display_data",
          "data": {
            "image/png": "[encoded data removed]",
            "text/plain": [
              "<Figure size 864x432 with 1 Axes>"
            ]
          },
          "metadata": {
            "tags": [],
            "needs_background": "light"
          }
        }
      ]
    },
    {
      "cell_type": "code",
      "metadata": {
        "id": "vWuyOzYEmetq",
        "cellView": "form"
      },
      "source": [
        "#@title Тестирование модели: выберите параметры\n",
        "метро = \"\\u0421\\u043F\\u0430\\u0440\\u0442\\u0430\\u043A \\u043C.\" #@param ['Авиамоторная м.', 'Автозаводская м.', 'Автозаводская м. (МЦК)', 'Академическая м.', 'Алабушево станция', 'Александровский Сад м.', 'Алексеевская м.', 'Алма-Атинская м.', 'Алтуфьево м.', 'Андроновка м. (МЦК)', 'Аннино м.', 'Апрелевка станция', 'Арбатская м.', 'Аэропорт (старая) станция', 'Аэропорт Внуково станция', 'Аэропорт м.', 'Бабушкинская м.', 'Багратионовская м.', 'Балтийская м. (МЦК)', 'Баррикадная м.', 'Бауманская м.', 'Беговая м.', 'Бекасово-1 станция', 'Белокаменная м. (МЦК)', 'Беломорская м.', 'Белорусская м.', 'Беляево м.', 'Бибирево м.', 'Библиотека им.Ленина м.', 'Битцевский парк м.', 'Борисово м.', 'Боровицкая м.', 'Боровское шоссе м.', 'Ботанический сад м.', 'Ботанический сад м. (МЦК)', 'Братиславская м.', 'Бульвар Адмирала Ушакова м.', 'Бульвар Дмитрия Донского м.', 'Бульвар Рокоссовского м.', 'Бульвар Рокоссовского м. (МЦК)', 'Бунинская аллея м.', 'Бутырская м.', 'ВДНХ м.', 'Варшавская м.', 'Верхние Котлы м. (МЦК)', 'Верхние Лихоборы м.', 'Весенняя станция', 'Владыкино м.', 'Внуково станция', 'Водный стадион м.', 'Войковская м.', 'Волгоградский проспект м.', 'Волжская м.', 'Волоколамская м.', 'Воробьевы Горы м.', 'Выставочная м.', 'Выхино м.', 'Говорово м.', 'Гривно станция', 'Дачная станция', 'Деловой центр м.', 'Динамо м.', 'Дмитровская м.', 'Добрынинская м.', 'Домодедовская м.', 'Достоевская м.', 'Дубровка м.', 'Дубровка м. (МЦК)', 'Жулебино м.', 'ЗИЛ м. (МЦК)', 'Зорге м. (МЦК)', 'Зябликово м.', 'Измайлово м. (МЦК)', 'Измайловская м.', 'Калужская м.', 'Кантемировская м.', 'Каховская м.', 'Каширская м.', 'Киевская м.', 'Китай-Город м.', 'Кожуховская м.', 'Кокошкино станция', 'Коломенская м.', 'Колхозная станция', 'Коммунарка м.', 'Комсомольская м.', 'Коньково м.', 'Коптево м. (МЦК)', 'Косино м.', 'Котельники м.', 'Красногвардейская м.', 'Краснопресненская м.', 'Красносельская м.', 'Красные ворота м.', 'Крекшино станция', 'Крестьянская Застава м.', 'Кропоткинская м.', 'Крылатское м.', 'Крымская м. (МЦК)', 'Кузнецкий мост м.', 'Кузьминки м.', 'Кунцевская м.', 'Курская м.', 'Кутузовская м.', 'Кутузовская м. (МЦК)', 'Ленинский проспект м.', 'Лермонтовский проспект м.', 'Лесопарковая м.', 'Лихоборы м. (МЦК)', 'Локомотив м. (МЦК)', 'Ломоносовский проспект м.', 'Лубянка м.', 'Лужники м. (МЦК)', 'Лухмановская м.', 'Львовская станция', 'Люблино м.', 'Марксистская м.', 'Марьина Роща м.', 'Марьино м.', 'Маяковская м.', 'Медведково м.', 'Международная м.', 'Менделеевская м.', 'Минская м.', 'Митино м.', 'Мичуринец станция', 'Мичуринский проспект м.', 'Молодежная м.', 'Мякинино м.', 'Нагатинская м.', 'Нагорная м.', 'Нахимовский проспект м.', 'Некрасовка м.', 'Нижегородская м. (МЦК)', 'Нижегородская улица м.', 'Новогиреево м.', 'Новокосино м.', 'Новокузнецкая м.', 'Новопеределкино м.', 'Новослободская м.', 'Новохохловская м. (МЦК)', 'Новоясеневская м.', 'Новые Черемушки м.', 'Озерная м.', 'Окружная м.', 'Окружная м. (МЦК)', 'Окская улица м.', 'Октябрьская м.', 'Октябрьское поле м.', 'Ольховая м.', 'Орехово м.', 'Отрадное м.', 'Охотный ряд м.', 'Павелецкая м.', 'Панфиловская м. (МЦК)', 'Парк Победы м.', 'Парк культуры м.', 'Партизанская м.', 'Первомайская м.', 'Перово м.', 'Петровский парк м.', 'Петровско-Разумовская м.', 'Печатники м.', 'Пионерская м.', 'Планерная м.', 'Площадь Гагарина м. (МЦК)', 'Площадь Ильича м.', 'Площадь Революции м.', 'Победа станция', 'Подольск станция', 'Полежаевская м.', 'Полянка м.', 'Пражская м.', 'Преображенская площадь м.', 'Прокшино м.', 'Пролетарская м.', 'Проспект Вернадского м.', 'Проспект Мира м.', 'Профсоюзная м.', 'Пушкинская м.', 'Пятницкое шоссе м.', 'Раменки м.', 'Рассказовка м.', 'Рассудово станция', 'Речной вокзал м.', 'Рижская м.', 'Римская м.', 'Ростокино м. (МЦК)', 'Румянцево м.', 'Рязанский проспект м.', 'Савеловская м.', 'Савеловская метро', 'Саларьево м.', 'Свиблово м.', 'Севастопольская м.', 'Селигерская м.', 'Семеновская м.', 'Серпуховская м.', 'Силикатная станция', 'Славянский бульвар м.', 'Смоленская м.', 'Сокол м.', 'Соколиная Гора м. (МЦК)', 'Сокольники м.', 'Солнцево м.', 'Спартак м.', 'Спортивная м.', 'Сретенский бульвар м.', 'Стахановская м.', 'Столбово м.', 'Стрешнево м. (МЦК)', 'Строгино м.', 'Студенческая м.', 'Сухаревская м.', 'Сходненская м.', 'Таганская м.', 'Тверская м.', 'Театральная м.', 'Текстильщики м.', 'Теплый стан м.', 'Технопарк м.', 'Тимирязевская м.', 'Толстопальцево станция', 'Третьяковская м.', 'Тропарево м.', 'Трубная м.', 'Тульская м.', 'Тургеневская м.', 'Тушинская м.', 'Угрешская м. (МЦК)', 'Улица 1905 года м.', 'Улица Академика Янгеля м.', 'Улица Горчакова м.', 'Улица Дмитриевского м.', 'Улица Скобелевская м.', 'Улица Старокачаловская м.', 'Университет м.', 'Филатов луг м.', 'Филевский парк м.', 'Фили м.', 'Фонвизинская м.', 'Фрунзенская м.', 'Ховрино м.', 'Хорошево м. (МЦК)', 'Хорошевское м.', 'ЦСКА м.', 'Царицыно м.', 'Цветной бульвар м.', 'Черкизовская м.', 'Чертановская м.', 'Чеховская м.', 'Чистые пруды м.', 'Чкаловская м.', 'Шаболовская м.', 'Шелепиха м.', 'Шелепиха м. (МЦК)', 'Шипиловская м.', 'Шоссе Энтузиастов м.', 'Шоссе Энтузиастов м. (МЦК)', 'Щелковская м.', 'Щербинка станция', 'Щукинская м.', 'Электрозаводская м.', 'Юго-Восточная м.', 'Юго-Западная м.', 'Южная м.', 'Ясенево м.']\n",
        "до_станции =  4#@param {type:\"integer\"}\n",
        "способ_передвижения = \"\\u043F\\u0435\\u0448\\u043A\\u043E\\u043C\" #@param ['пешком', 'транспорт']\n",
        "этаж =  1#@param {type:\"integer\"}\n",
        "всего_этажей =  14#@param {type:\"integer\"}\n",
        "тип_балкона = 'Л' #@param ['Л', 'Б', '2Б', '-', '2Б2Л', 'БЛ', '3Б', '2Л', 'Эрк', 'Б2Л', 'ЭркЛ', '3Л', '4Л', '*Л', '*Б']\n",
        "тип_санузла = '2' #@param ['2', 'Р', 'С', '-', '2С', '+', '4Р', '2Р', '3С', '4С', '4', '3', '3Р']\n",
        "площадь = 87 #@param {type:\"number\"}\n",
        "описание = '\\u043F\\u0440\\u0435\\u043A\\u0440\\u0430\\u0441\\u043D\\u0430\\u044F \\u043A\\u0432\\u0430\\u0440\\u0442\\u0438\\u0440\\u0430 \\u0440\\u044F\\u0434\\u043E\\u043C \\u0441 \\u043F\\u0430\\u0440\\u043A\\u043E\\u043C' #@param {type:\"string\"}"
      ],
      "execution_count": null,
      "outputs": []
    },
    {
      "cell_type": "code",
      "metadata": {
        "id": "iU7auNuExIQ4",
        "colab": {
          "base_uri": "https://localhost:8080/"
        },
        "outputId": "fbbc3fae-d8ac-4dce-8fec-0a2fe9f58108"
      },
      "source": [
        "# Тестируем модель\n",
        "терра_ии.тест_модели_квартиры(\n",
        "    нейронка_квартиры_1, инструменты, \n",
        "    метро, до_станции, способ_передвижения, этаж, всего_этажей, тип_балкона, тип_санузла, площадь, описание)"
      ],
      "execution_count": null,
      "outputs": [
        {
          "output_type": "stream",
          "text": [
            "Цена квартиры: 20млн  167тыс рублей\n"
          ],
          "name": "stdout"
        }
      ]
    },
    {
      "cell_type": "markdown",
      "metadata": {
        "id": "qQ8Qz-WCEQNw"
      },
      "source": [
        "## Подбор кандидата на должность менеджера по продажам "
      ]
    },
    {
      "cell_type": "code",
      "metadata": {
        "id": "Eh8DjygJPaqt",
        "colab": {
          "base_uri": "https://localhost:8080/"
        },
        "outputId": "3fd38110-c47c-4934-8e64-0e6a8c92ef27"
      },
      "source": [
        "# Скачиваем базу вакансий\n",
        "терра_ии.загрузить_базу(база = 'ВАКАНСИИ',\n",
        "                    справка = 'Показать')"
      ],
      "execution_count": null,
      "outputs": [
        {
          "output_type": "stream",
          "text": [
            "Загрузка данных завершена \n",
            "\n",
            "url: https://storage.googleapis.com/terra_ai/DataSets/HR.zip\n",
            "Вы скачали базу вакансий.\n"
          ],
          "name": "stdout"
        }
      ]
    },
    {
      "cell_type": "code",
      "metadata": {
        "id": "ImQyZEJZPe0C",
        "colab": {
          "base_uri": "https://localhost:8080/"
        },
        "outputId": "c1ffed1c-f9ae-4ad8-c44c-2a40b9edce67"
      },
      "source": [
        "# Примеры из базы\n",
        "терра_ии.показать_примеры(\n",
        "    база = 'Вакансии')"
      ],
      "execution_count": null,
      "outputs": [
        {
          "output_type": "stream",
          "text": [
            "Пример резюме:\n",
            "\n",
            "Пол:                         Ж\n",
            "Возраст:                     29\n",
            "Город:                       Москва\n",
            "Готовность к переезду:       не готов к переезду\n",
            "Готовность к командировкам:  готов к командировкам\n",
            "Гражданство:                 Россия\n",
            "Разрешение на работу:        Россия\n",
            "Знания языков:               Русский Английский\n",
            "Образование:                 Среднее специальное образование\n",
            "Дополнительное образование:  Данные не указаны\n",
            "Зарплата:                    50000.0\n",
            "Время в пути до работы:      не имеет значения\n",
            "Занятость:                   частичная занятость, проектная работа, полная занятость\n",
            "График:                      гибкий график, полный день, сменный график\n",
            "Опыт работы (мес):           118\n",
            "Обязанности на пред.работе:  -Встреча гостей на мероприятиях в ресторане-Работа с документацией, кассой, 1С общепит- инвентаризац\n",
            "                             ия посуды ресторана и хоз.товаров- работа с поставщиками-переговоры по телефону с гостями и потенциа\n",
            "                             льными гостями ресторана-проведение мероприятий под ключ- работа с персоналом (трудоустройство, обуч\n",
            "                             ение, управление)-работа с конфликтными ситуациями-разработка и дегустация меню, Встречать гостей;Ос\n",
            "                             уществлять навигацию в пространстве;Консультировать лично и по телефону;Работа с документацией, касс\n",
            "                             ой, 1С;Работа с документацией и ведение отчетности;Фиксирование брони конференц зала;Организация мер\n",
            "---------------------------------------------------------------\n",
            "Подходит ли кандидат:        нет\n",
            "---------------------------------------------------------------\n",
            "\n",
            "Пример резюме:\n",
            "\n",
            "Пол:                         М\n",
            "Возраст:                     29\n",
            "Город:                       Москва\n",
            "Готовность к переезду:       готов к переезду\n",
            "Готовность к командировкам:  готов к командировкам\n",
            "Гражданство:                 Колумбия\n",
            "Разрешение на работу:        Колумбия, Россия\n",
            "Знания языков:               Испанский Английский Русский\n",
            "Образование:                 Высшее образование\n",
            "Дополнительное образование:  UTP, Colombia\n",
            "Зарплата:                    40000.0\n",
            "Время в пути до работы:      не имеет значения\n",
            "Занятость:                   частичная занятость, проектная работа, полная занятость\n",
            "График:                      гибкий график, полный день, сменный график, вахтовый метод, удаленная работа\n",
            "Опыт работы (мес):           72\n",
            "Обязанности на пред.работе:  Logistics manager & Customer service, I am in permanent control of the logistic chain and quality of\n",
            "                              product; providers, stock, supply, orders processing and International cargo. Besides Permanently c\n",
            "                             ontacting and solving client’s requests to provide resolution and warranting a satisfactory experien\n",
            "                             ce for the customer. Also coordinating appropriate approaches for maintaining and constantly increas\n",
            "                             ing database of clients for the company; this implies working with social networks, digital marketin\n",
            "                             g & e-commerce strategies. Besides, scheduling providers to hold a constant supply for business oper\n",
            "---------------------------------------------------------------\n",
            "Подходит ли кандидат:        нет\n",
            "---------------------------------------------------------------\n",
            "\n",
            "Пример резюме:\n",
            "\n",
            "Пол:                         Ж\n",
            "Возраст:                     21\n",
            "Город:                       Алушта\n",
            "Готовность к переезду:       готов к переезду\n",
            "Готовность к командировкам:  готов к командировкам\n",
            "Гражданство:                 Россия\n",
            "Разрешение на работу:        Россия\n",
            "Знания языков:               Русский Английский\n",
            "Образование:                 Высшее образование\n",
            "Дополнительное образование:  Данные не указаны\n",
            "Зарплата:                    70000.0\n",
            "Время в пути до работы:      не имеет значения\n",
            "Занятость:                   частичная занятость, проектная работа, полная занятость\n",
            "График:                      гибкий график, полный день, сменный график, удаленная работа\n",
            "Опыт работы (мес):           58\n",
            "Обязанности на пред.работе:  Постановка бухгалтерского учёта с нуля и дальнейшее сопровождениеКонсалтингАнтикризисный аудит\n",
            "---------------------------------------------------------------\n",
            "Подходит ли кандидат:        да\n",
            "---------------------------------------------------------------\n",
            "\n"
          ],
          "name": "stdout"
        }
      ]
    },
    {
      "cell_type": "code",
      "metadata": {
        "id": "l64HSx7XPr5j"
      },
      "source": [
        "# Создаем обучающую и проверочную выборки\n",
        "(обучающая_выборка, метки_обучающей_выборки), (тестовая_выборка, метки_тестовой_выборки) = терра_ии.создать_выборки_вакансии()"
      ],
      "execution_count": null,
      "outputs": []
    },
    {
      "cell_type": "code",
      "metadata": {
        "id": "4iguXYenLyWk",
        "colab": {
          "base_uri": "https://localhost:8080/"
        },
        "outputId": "33adba83-cafc-4970-f458-9f2123529322"
      },
      "source": [
        "# Указываем слои создаваемой модели\n",
        "слои = 'Полносвязный-128\\\n",
        " Полносвязный-2' # Указываем слои создаваемой модели\n",
        "\n",
        "# Получаем входной размер данных\n",
        "входной_размер = терра_ии.получить_входной_размер(обучающая_выборка)\n",
        "\n",
        "# Создаем модель\n",
        "нейронка_вакансии_1 = терра_ии.создать_сеть(\n",
        "    слои = слои,\n",
        "    входной_размер = входной_размер,\n",
        "    задача='классификация вакансий'\n",
        "    )"
      ],
      "execution_count": null,
      "outputs": [
        {
          "output_type": "stream",
          "text": [
            "Создана модель нейронной сети!\n"
          ],
          "name": "stdout"
        }
      ]
    },
    {
      "cell_type": "code",
      "metadata": {
        "id": "Hni6YnELg9Cc",
        "colab": {
          "base_uri": "https://localhost:8080/",
          "height": 193
        },
        "outputId": "f4ace38a-b59d-4ec4-acf1-950c93e3a55c"
      },
      "source": [
        "# Выводим структуру модели\n",
        "терра_ии.схема_модели(нейронка_вакансии_1)"
      ],
      "execution_count": null,
      "outputs": [
        {
          "output_type": "stream",
          "text": [
            "Схема модели:\n"
          ],
          "name": "stdout"
        },
        {
          "output_type": "execute_result",
          "data": {
            "image/png": "[encoded data removed]",
            "text/plain": [
              "<IPython.core.display.Image object>"
            ]
          },
          "metadata": {
            "tags": []
          },
          "execution_count": 67
        }
      ]
    },
    {
      "cell_type": "code",
      "metadata": {
        "id": "TH3H1AV_MA-7",
        "colab": {
          "base_uri": "https://localhost:8080/",
          "height": 1000
        },
        "outputId": "3a15e649-384e-4d34-952c-08fdd1c54581"
      },
      "source": [
        "# Обучаем модель\n",
        "эксперимент_1 = терра_ии.обучение_модели(\n",
        "    нейронка_вакансии_1,\n",
        "    обучающая_выборка, метки_обучающей_выборки,\n",
        "    тестовая_выборка, метки_тестовой_выборки,\n",
        "    размер_пакета = 64,\n",
        "    количество_эпох = 150)"
      ],
      "execution_count": null,
      "outputs": [
        {
          "output_type": "stream",
          "text": [
            "Эпоха №1    Время обучения: 0.42c   Точность на обучающей выборке: 48.0%     Точность на проверочной выборке: 56.82%\n",
            "Эпоха №2    Время обучения: 0.05c   Точность на обучающей выборке: 53.6%     Точность на проверочной выборке: 61.74%\n",
            "Эпоха №3    Время обучения: 0.04c   Точность на обучающей выборке: 56.4%     Точность на проверочной выборке: 64.77%\n",
            "Эпоха №4    Время обучения: 0.05c   Точность на обучающей выборке: 58.8%     Точность на проверочной выборке: 60.61%\n",
            "Эпоха №5    Время обучения: 0.05c   Точность на обучающей выборке: 60.2%     Точность на проверочной выборке: 66.29%\n",
            "Эпоха №6    Время обучения: 0.05c   Точность на обучающей выборке: 61.4%     Точность на проверочной выборке: 66.67%\n",
            "Эпоха №7    Время обучения: 0.05c   Точность на обучающей выборке: 63.0%     Точность на проверочной выборке: 66.67%\n",
            "Эпоха №8    Время обучения: 0.05c   Точность на обучающей выборке: 62.2%     Точность на проверочной выборке: 66.67%\n",
            "Эпоха №9    Время обучения: 0.04c   Точность на обучающей выборке: 63.2%     Точность на проверочной выборке: 68.94%\n",
            "Эпоха №10   Время обучения: 0.04c   Точность на обучающей выборке: 64.6%     Точность на проверочной выборке: 65.91%\n",
            "Эпоха №11   Время обучения: 0.05c   Точность на обучающей выборке: 65.0%     Точность на проверочной выборке: 68.56%\n",
            "Эпоха №12   Время обучения: 0.05c   Точность на обучающей выборке: 66.0%     Точность на проверочной выборке: 68.18%\n",
            "Эпоха №13   Время обучения: 0.04c   Точность на обучающей выборке: 63.8%     Точность на проверочной выборке: 65.91%\n",
            "Эпоха №14   Время обучения: 0.05c   Точность на обучающей выборке: 66.0%     Точность на проверочной выборке: 71.97%\n",
            "Эпоха №15   Время обучения: 0.05c   Точность на обучающей выборке: 67.6%     Точность на проверочной выборке: 69.32%\n",
            "Эпоха №16   Время обучения: 0.05c   Точность на обучающей выборке: 67.0%     Точность на проверочной выборке: 69.32%\n",
            "Эпоха №17   Время обучения: 0.04c   Точность на обучающей выборке: 67.6%     Точность на проверочной выборке: 69.7%\n",
            "Эпоха №18   Время обучения: 0.04c   Точность на обучающей выборке: 68.6%     Точность на проверочной выборке: 70.08%\n",
            "Эпоха №19   Время обучения: 0.05c   Точность на обучающей выборке: 68.8%     Точность на проверочной выборке: 70.45%\n",
            "Эпоха №20   Время обучения: 0.05c   Точность на обучающей выборке: 69.2%     Точность на проверочной выборке: 70.45%\n",
            "Эпоха №21   Время обучения: 0.05c   Точность на обучающей выборке: 68.0%     Точность на проверочной выборке: 67.8%\n",
            "Эпоха №22   Время обучения: 0.05c   Точность на обучающей выборке: 69.4%     Точность на проверочной выборке: 69.7%\n",
            "Эпоха №23   Время обучения: 0.05c   Точность на обучающей выборке: 69.0%     Точность на проверочной выборке: 70.83%\n",
            "Эпоха №24   Время обучения: 0.04c   Точность на обучающей выборке: 70.8%     Точность на проверочной выборке: 70.45%\n",
            "Эпоха №25   Время обучения: 0.05c   Точность на обучающей выборке: 71.6%     Точность на проверочной выборке: 71.97%\n",
            "Эпоха №26   Время обучения: 0.05c   Точность на обучающей выборке: 71.2%     Точность на проверочной выборке: 68.94%\n",
            "Эпоха №27   Время обучения: 0.05c   Точность на обучающей выборке: 72.2%     Точность на проверочной выборке: 69.32%\n",
            "Эпоха №28   Время обучения: 0.04c   Точность на обучающей выборке: 71.8%     Точность на проверочной выборке: 74.24%\n",
            "Эпоха №29   Время обучения: 0.04c   Точность на обучающей выборке: 72.8%     Точность на проверочной выборке: 70.45%\n",
            "Эпоха №30   Время обучения: 0.04c   Точность на обучающей выборке: 73.6%     Точность на проверочной выборке: 69.7%\n",
            "Эпоха №31   Время обучения: 0.05c   Точность на обучающей выборке: 72.4%     Точность на проверочной выборке: 75.0%\n",
            "Эпоха №32   Время обучения: 0.04c   Точность на обучающей выборке: 74.2%     Точность на проверочной выборке: 72.35%\n",
            "Эпоха №33   Время обучения: 0.04c   Точность на обучающей выборке: 74.8%     Точность на проверочной выборке: 71.97%\n",
            "Эпоха №34   Время обучения: 0.04c   Точность на обучающей выборке: 73.6%     Точность на проверочной выборке: 73.86%\n",
            "Эпоха №35   Время обучения: 0.04c   Точность на обучающей выборке: 76.0%     Точность на проверочной выборке: 71.97%\n",
            "Эпоха №36   Время обучения: 0.04c   Точность на обучающей выборке: 77.8%     Точность на проверочной выборке: 72.35%\n",
            "Эпоха №37   Время обучения: 0.05c   Точность на обучающей выборке: 74.6%     Точность на проверочной выборке: 74.24%\n",
            "Эпоха №38   Время обучения: 0.04c   Точность на обучающей выборке: 76.8%     Точность на проверочной выборке: 73.86%\n",
            "Эпоха №39   Время обучения: 0.04c   Точность на обучающей выборке: 77.6%     Точность на проверочной выборке: 72.73%\n",
            "Эпоха №40   Время обучения: 0.04c   Точность на обучающей выборке: 77.4%     Точность на проверочной выборке: 72.73%\n",
            "Эпоха №41   Время обучения: 0.05c   Точность на обучающей выборке: 77.0%     Точность на проверочной выборке: 72.73%\n",
            "Эпоха №42   Время обучения: 0.04c   Точность на обучающей выборке: 78.6%     Точность на проверочной выборке: 74.24%\n",
            "Эпоха №43   Время обучения: 0.04c   Точность на обучающей выборке: 78.4%     Точность на проверочной выборке: 73.11%\n",
            "Эпоха №44   Время обучения: 0.04c   Точность на обучающей выборке: 78.4%     Точность на проверочной выборке: 76.14%\n",
            "Эпоха №45   Время обучения: 0.04c   Точность на обучающей выборке: 78.2%     Точность на проверочной выборке: 76.14%\n",
            "Эпоха №46   Время обучения: 0.04c   Точность на обучающей выборке: 79.2%     Точность на проверочной выборке: 75.76%\n",
            "Эпоха №47   Время обучения: 0.05c   Точность на обучающей выборке: 79.0%     Точность на проверочной выборке: 74.62%\n",
            "Эпоха №48   Время обучения: 0.05c   Точность на обучающей выборке: 79.4%     Точность на проверочной выборке: 76.89%\n",
            "Эпоха №49   Время обучения: 0.04c   Точность на обучающей выборке: 79.2%     Точность на проверочной выборке: 76.89%\n",
            "Эпоха №50   Время обучения: 0.04c   Точность на обучающей выборке: 81.4%     Точность на проверочной выборке: 76.14%\n",
            "Эпоха №51   Время обучения: 0.04c   Точность на обучающей выборке: 80.0%     Точность на проверочной выборке: 75.76%\n",
            "Эпоха №52   Время обучения: 0.05c   Точность на обучающей выборке: 80.2%     Точность на проверочной выборке: 76.14%\n",
            "Эпоха №53   Время обучения: 0.04c   Точность на обучающей выборке: 79.8%     Точность на проверочной выборке: 75.38%\n",
            "Эпоха №54   Время обучения: 0.04c   Точность на обучающей выборке: 80.8%     Точность на проверочной выборке: 75.76%\n",
            "Эпоха №55   Время обучения: 0.04c   Точность на обучающей выборке: 82.0%     Точность на проверочной выборке: 76.52%\n",
            "Эпоха №56   Время обучения: 0.05c   Точность на обучающей выборке: 81.2%     Точность на проверочной выборке: 77.65%\n",
            "Эпоха №57   Время обучения: 0.05c   Точность на обучающей выборке: 82.0%     Точность на проверочной выборке: 77.65%\n",
            "Эпоха №58   Время обучения: 0.04c   Точность на обучающей выборке: 83.0%     Точность на проверочной выборке: 76.52%\n",
            "Эпоха №59   Время обучения: 0.05c   Точность на обучающей выборке: 82.4%     Точность на проверочной выборке: 77.27%\n",
            "Эпоха №60   Время обучения: 0.04c   Точность на обучающей выборке: 82.8%     Точность на проверочной выборке: 77.27%\n",
            "Эпоха №61   Время обучения: 0.04c   Точность на обучающей выборке: 82.6%     Точность на проверочной выборке: 76.89%\n",
            "Эпоха №62   Время обучения: 0.05c   Точность на обучающей выборке: 83.0%     Точность на проверочной выборке: 79.17%\n",
            "Эпоха №63   Время обучения: 0.05c   Точность на обучающей выборке: 84.0%     Точность на проверочной выборке: 76.52%\n",
            "Эпоха №64   Время обучения: 0.05c   Точность на обучающей выборке: 83.0%     Точность на проверочной выборке: 76.52%\n",
            "Эпоха №65   Время обучения: 0.05c   Точность на обучающей выборке: 84.4%     Точность на проверочной выборке: 78.41%\n",
            "Эпоха №66   Время обучения: 0.04c   Точность на обучающей выборке: 84.4%     Точность на проверочной выборке: 77.27%\n",
            "Эпоха №67   Время обучения: 0.05c   Точность на обучающей выборке: 84.8%     Точность на проверочной выборке: 79.55%\n",
            "Эпоха №68   Время обучения: 0.05c   Точность на обучающей выборке: 84.6%     Точность на проверочной выборке: 79.17%\n",
            "Эпоха №69   Время обучения: 0.06c   Точность на обучающей выборке: 84.6%     Точность на проверочной выборке: 79.92%\n",
            "Эпоха №70   Время обучения: 0.05c   Точность на обучающей выборке: 85.0%     Точность на проверочной выборке: 79.92%\n",
            "Эпоха №71   Время обучения: 0.04c   Точность на обучающей выборке: 85.8%     Точность на проверочной выборке: 79.55%\n",
            "Эпоха №72   Время обучения: 0.05c   Точность на обучающей выборке: 85.0%     Точность на проверочной выборке: 79.55%\n",
            "Эпоха №73   Время обучения: 0.04c   Точность на обучающей выборке: 86.0%     Точность на проверочной выборке: 79.17%\n",
            "Эпоха №74   Время обучения: 0.05c   Точность на обучающей выборке: 85.8%     Точность на проверочной выборке: 80.3%\n",
            "Эпоха №75   Время обучения: 0.05c   Точность на обучающей выборке: 85.2%     Точность на проверочной выборке: 80.3%\n",
            "Эпоха №76   Время обучения: 0.04c   Точность на обучающей выборке: 86.8%     Точность на проверочной выборке: 79.92%\n",
            "Эпоха №77   Время обучения: 0.05c   Точность на обучающей выборке: 86.8%     Точность на проверочной выборке: 81.82%\n",
            "Эпоха №78   Время обучения: 0.04c   Точность на обучающей выборке: 87.6%     Точность на проверочной выборке: 79.55%\n",
            "Эпоха №79   Время обучения: 0.05c   Точность на обучающей выборке: 86.8%     Точность на проверочной выборке: 79.92%\n",
            "Эпоха №80   Время обучения: 0.05c   Точность на обучающей выборке: 86.0%     Точность на проверочной выборке: 82.2%\n",
            "Эпоха №81   Время обучения: 0.04c   Точность на обучающей выборке: 86.8%     Точность на проверочной выборке: 78.79%\n",
            "Эпоха №82   Время обучения: 0.04c   Точность на обучающей выборке: 87.6%     Точность на проверочной выборке: 81.82%\n",
            "Эпоха №83   Время обучения: 0.04c   Точность на обучающей выборке: 87.0%     Точность на проверочной выборке: 80.68%\n",
            "Эпоха №84   Время обучения: 0.04c   Точность на обучающей выборке: 87.2%     Точность на проверочной выборке: 81.44%\n",
            "Эпоха №85   Время обучения: 0.05c   Точность на обучающей выборке: 87.2%     Точность на проверочной выборке: 81.06%\n",
            "Эпоха №86   Время обучения: 0.05c   Точность на обучающей выборке: 88.2%     Точность на проверочной выборке: 82.95%\n",
            "Эпоха №87   Время обучения: 0.04c   Точность на обучающей выборке: 88.6%     Точность на проверочной выборке: 79.92%\n",
            "Эпоха №88   Время обучения: 0.04c   Точность на обучающей выборке: 87.8%     Точность на проверочной выборке: 82.58%\n",
            "Эпоха №89   Время обучения: 0.04c   Точность на обучающей выборке: 88.6%     Точность на проверочной выборке: 81.06%\n",
            "Эпоха №90   Время обучения: 0.05c   Точность на обучающей выборке: 88.0%     Точность на проверочной выборке: 81.82%\n",
            "Эпоха №91   Время обучения: 0.05c   Точность на обучающей выборке: 89.2%     Точность на проверочной выборке: 82.2%\n",
            "Эпоха №92   Время обучения: 0.04c   Точность на обучающей выборке: 89.2%     Точность на проверочной выборке: 82.58%\n",
            "Эпоха №93   Время обучения: 0.05c   Точность на обучающей выборке: 90.0%     Точность на проверочной выборке: 82.58%\n",
            "Эпоха №94   Время обучения: 0.05c   Точность на обучающей выборке: 89.2%     Точность на проверочной выборке: 81.82%\n",
            "Эпоха №95   Время обучения: 0.05c   Точность на обучающей выборке: 88.4%     Точность на проверочной выборке: 83.33%\n",
            "Эпоха №96   Время обучения: 0.04c   Точность на обучающей выборке: 89.2%     Точность на проверочной выборке: 81.82%\n",
            "Эпоха №97   Время обучения: 0.04c   Точность на обучающей выборке: 90.2%     Точность на проверочной выборке: 83.71%\n",
            "Эпоха №98   Время обучения: 0.04c   Точность на обучающей выборке: 90.0%     Точность на проверочной выборке: 82.2%\n",
            "Эпоха №99   Время обучения: 0.05c   Точность на обучающей выборке: 90.0%     Точность на проверочной выборке: 83.71%\n",
            "Эпоха №100  Время обучения: 0.04c   Точность на обучающей выборке: 90.6%     Точность на проверочной выборке: 82.58%\n",
            "Эпоха №101  Время обучения: 0.05c   Точность на обучающей выборке: 89.8%     Точность на проверочной выборке: 82.58%\n",
            "Эпоха №102  Время обучения: 0.04c   Точность на обучающей выборке: 91.0%     Точность на проверочной выборке: 83.71%\n",
            "Эпоха №103  Время обучения: 0.04c   Точность на обучающей выборке: 90.6%     Точность на проверочной выборке: 83.33%\n",
            "Эпоха №104  Время обучения: 0.04c   Точность на обучающей выборке: 90.2%     Точность на проверочной выборке: 83.33%\n",
            "Эпоха №105  Время обучения: 0.04c   Точность на обучающей выборке: 90.6%     Точность на проверочной выборке: 84.09%\n",
            "Эпоха №106  Время обучения: 0.05c   Точность на обучающей выборке: 90.4%     Точность на проверочной выборке: 84.09%\n",
            "Эпоха №107  Время обучения: 0.04c   Точность на обучающей выборке: 91.2%     Точность на проверочной выборке: 84.09%\n",
            "Эпоха №108  Время обучения: 0.04c   Точность на обучающей выборке: 92.0%     Точность на проверочной выборке: 84.09%\n",
            "Эпоха №109  Время обучения: 0.04c   Точность на обучающей выборке: 91.8%     Точность на проверочной выборке: 84.47%\n",
            "Эпоха №110  Время обучения: 0.04c   Точность на обучающей выборке: 91.0%     Точность на проверочной выборке: 83.71%\n",
            "Эпоха №111  Время обучения: 0.05c   Точность на обучающей выборке: 91.0%     Точность на проверочной выборке: 83.71%\n",
            "Эпоха №112  Время обучения: 0.04c   Точность на обучающей выборке: 92.2%     Точность на проверочной выборке: 84.47%\n",
            "Эпоха №113  Время обучения: 0.04c   Точность на обучающей выборке: 92.2%     Точность на проверочной выборке: 83.33%\n",
            "Эпоха №114  Время обучения: 0.04c   Точность на обучающей выборке: 92.2%     Точность на проверочной выборке: 83.33%\n",
            "Эпоха №115  Время обучения: 0.05c   Точность на обучающей выборке: 92.4%     Точность на проверочной выборке: 84.47%\n",
            "Эпоха №116  Время обучения: 0.04c   Точность на обучающей выборке: 91.8%     Точность на проверочной выборке: 84.09%\n",
            "Эпоха №117  Время обучения: 0.04c   Точность на обучающей выборке: 92.4%     Точность на проверочной выборке: 84.09%\n",
            "Эпоха №118  Время обучения: 0.04c   Точность на обучающей выборке: 92.4%     Точность на проверочной выборке: 84.47%\n",
            "Эпоха №119  Время обучения: 0.05c   Точность на обучающей выборке: 92.2%     Точность на проверочной выборке: 84.47%\n",
            "Эпоха №120  Время обучения: 0.05c   Точность на обучающей выборке: 92.2%     Точность на проверочной выборке: 84.47%\n",
            "Эпоха №121  Время обучения: 0.04c   Точность на обучающей выборке: 91.8%     Точность на проверочной выборке: 84.47%\n",
            "Эпоха №122  Время обучения: 0.04c   Точность на обучающей выборке: 91.8%     Точность на проверочной выборке: 83.71%\n",
            "Эпоха №123  Время обучения: 0.04c   Точность на обучающей выборке: 92.0%     Точность на проверочной выборке: 85.61%\n",
            "Эпоха №124  Время обучения: 0.05c   Точность на обучающей выборке: 92.0%     Точность на проверочной выборке: 85.61%\n",
            "Эпоха №125  Время обучения: 0.05c   Точность на обучающей выборке: 92.8%     Точность на проверочной выборке: 85.23%\n",
            "Эпоха №126  Время обучения: 0.04c   Точность на обучающей выборке: 93.0%     Точность на проверочной выборке: 84.47%\n",
            "Эпоха №127  Время обучения: 0.04c   Точность на обучающей выборке: 92.6%     Точность на проверочной выборке: 85.23%\n",
            "Эпоха №128  Время обучения: 0.04c   Точность на обучающей выборке: 92.8%     Точность на проверочной выборке: 84.85%\n",
            "Эпоха №129  Время обучения: 0.05c   Точность на обучающей выборке: 92.8%     Точность на проверочной выборке: 85.23%\n",
            "Эпоха №130  Время обучения: 0.05c   Точность на обучающей выборке: 92.8%     Точность на проверочной выборке: 85.23%\n",
            "Эпоха №131  Время обучения: 0.04c   Точность на обучающей выборке: 93.0%     Точность на проверочной выборке: 84.85%\n",
            "Эпоха №132  Время обучения: 0.04c   Точность на обучающей выборке: 93.4%     Точность на проверочной выборке: 84.85%\n",
            "Эпоха №133  Время обучения: 0.04c   Точность на обучающей выборке: 92.8%     Точность на проверочной выборке: 85.61%\n",
            "Эпоха №134  Время обучения: 0.04c   Точность на обучающей выборке: 92.6%     Точность на проверочной выборке: 85.23%\n",
            "Эпоха №135  Время обучения: 0.04c   Точность на обучающей выборке: 93.4%     Точность на проверочной выборке: 85.23%\n",
            "Эпоха №136  Время обучения: 0.05c   Точность на обучающей выборке: 93.0%     Точность на проверочной выборке: 84.09%\n",
            "Эпоха №137  Время обучения: 0.04c   Точность на обучающей выборке: 92.8%     Точность на проверочной выборке: 85.61%\n",
            "Эпоха №138  Время обучения: 0.04c   Точность на обучающей выборке: 93.4%     Точность на проверочной выборке: 85.23%\n",
            "Эпоха №139  Время обучения: 0.04c   Точность на обучающей выборке: 93.0%     Точность на проверочной выборке: 85.61%\n",
            "Эпоха №140  Время обучения: 0.05c   Точность на обучающей выборке: 93.4%     Точность на проверочной выборке: 85.23%\n",
            "Эпоха №141  Время обучения: 0.04c   Точность на обучающей выборке: 93.6%     Точность на проверочной выборке: 85.23%\n",
            "Эпоха №142  Время обучения: 0.04c   Точность на обучающей выборке: 93.4%     Точность на проверочной выборке: 85.23%\n",
            "Эпоха №143  Время обучения: 0.04c   Точность на обучающей выборке: 93.2%     Точность на проверочной выборке: 85.23%\n",
            "Эпоха №144  Время обучения: 0.04c   Точность на обучающей выборке: 93.8%     Точность на проверочной выборке: 85.61%\n",
            "Эпоха №145  Время обучения: 0.05c   Точность на обучающей выборке: 93.8%     Точность на проверочной выборке: 85.61%\n",
            "Эпоха №146  Время обучения: 0.05c   Точность на обучающей выборке: 93.8%     Точность на проверочной выборке: 85.98%\n",
            "Эпоха №147  Время обучения: 0.04c   Точность на обучающей выборке: 93.8%     Точность на проверочной выборке: 85.98%\n",
            "Эпоха №148  Время обучения: 0.04c   Точность на обучающей выборке: 93.4%     Точность на проверочной выборке: 84.85%\n",
            "Эпоха №149  Время обучения: 0.04c   Точность на обучающей выборке: 93.4%     Точность на проверочной выборке: 85.61%\n",
            "\u001b[42m\u001b[37mЭпоха №150  Время обучения: 0.05c   Точность на обучающей выборке: 93.6%     Точность на проверочной выборке: 85.98%\u001b[0m\n",
            "\n"
          ],
          "name": "stdout"
        },
        {
          "output_type": "display_data",
          "data": {
            "image/png": "[encoded data removed]",
            "text/plain": [
              "<Figure size 864x432 with 1 Axes>"
            ]
          },
          "metadata": {
            "tags": [],
            "needs_background": "light"
          }
        }
      ]
    },
    {
      "cell_type": "code",
      "metadata": {
        "id": "lmfEhzjEdPS1",
        "colab": {
          "base_uri": "https://localhost:8080/"
        },
        "outputId": "e32c098c-6bed-41b1-c190-52a20b5f6401"
      },
      "source": [
        "терра_ии.тест_модели_вакансии(нейронка_вакансии_1,\n",
        "                              тестовая_выборка, метки_тестовой_выборки)"
      ],
      "execution_count": null,
      "outputs": [
        {
          "output_type": "stream",
          "text": [
            "Тестовое резюме:\n",
            "\n",
            "Пол:                         Ж\n",
            "Возраст:                     36\n",
            "Город:                       Москва\n",
            "Готовность к переезду:       не готов к переезду\n",
            "Готовность к командировкам:  готов к командировкам\n",
            "Гражданство:                 Россия\n",
            "Разрешение на работу:        Россия\n",
            "Знания языков:               Русский Английский Украинский\n",
            "Образование:                 Высшее образование\n",
            "Дополнительное образование:  Данные не указаны\n",
            "Зарплата:                    40000.0\n",
            "Время в пути до работы:      не имеет значения\n",
            "Занятость:                   частичная занятость, проектная работа, полная занятость\n",
            "График:                      удаленная работа\n",
            "Опыт работы (мес):           89\n",
            "Обязанности на пред.работе:  распределение, отслеживание и контроль маршрутов, сбор и обработка информации, а также анализ програ\n",
            "                             ммного обеспечения стран Европы, Латинской Америки и Азии, Наполнение сайта, редактирование, описани\n",
            "                             е товара. Обработка заказов, отправка как по Москве с курьерами, так и по России почтой и транспортн\n",
            "                             ыми компаниями. Работаю в Exсel, word, 1c, paint, photoshop, Outlook, Retail CRM, Bitriх24 и т.д.\n",
            "\n",
            "Модель уверена, что кандидат подходит в УИИ на: 98.41%\n",
            "---------------------------------------------------------------\n",
            "Подходит ли кандидат на самом деле:  да\n",
            "---------------------------------------------------------------\n",
            "\n",
            "Тестовое резюме:\n",
            "\n",
            "Пол:                         М\n",
            "Возраст:                     25\n",
            "Город:                       Москва\n",
            "Готовность к переезду:       готов к переезду\n",
            "Готовность к командировкам:  готов к командировкам\n",
            "Гражданство:                 Франция\n",
            "Разрешение на работу:        Россия\n",
            "Знания языков:               Французский Английский Итальянский Русский Испанский\n",
            "Образование:                 Высшее образование\n",
            "Дополнительное образование:  Данные не указаны\n",
            "Зарплата:                    70000.0\n",
            "Время в пути до работы:      не имеет значения\n",
            "Занятость:                   полная занятость\n",
            "График:                      полный день\n",
            "Опыт работы (мес):           64\n",
            "Обязанности на пред.работе:  Management of the Saint Emillion wine house exports to Russia.-Development of the brand sector throu\n",
            "                             ghout Russia.-Аppointments arrangement with hotel managers and restaurants owners-Management of the \n",
            "                             logistics-Sales negotiations organization-Management of the legislative procedures mandatory for win\n",
            "                             e exports to Russia.- Luxe sectors, -Stock the store in an organized and commercial manner-Ensure th\n",
            "                             e replenishment of stocks-Choose collections or brands-Direct inventories-Organize the working time \n",
            "                             of sellers-Train sellers in sales techniques and arguments that they wish to apply-Keep the aсcounts\n",
            "\n",
            "Модель уверена, что кандидат подходит в УИИ на: 13.95%\n",
            "---------------------------------------------------------------\n",
            "Подходит ли кандидат на самом деле:  нет\n",
            "---------------------------------------------------------------\n",
            "\n",
            "Тестовое резюме:\n",
            "\n",
            "Пол:                         М\n",
            "Возраст:                     34\n",
            "Город:                       Москва\n",
            "Готовность к переезду:       готов к переезду\n",
            "Готовность к командировкам:  готов к командировкам\n",
            "Гражданство:                 Россия\n",
            "Разрешение на работу:        Россия\n",
            "Знания языков:               Русский Английский\n",
            "Образование:                 Высшее образование\n",
            "Дополнительное образование:  Данные не указаны\n",
            "Зарплата:                    70000.0\n",
            "Время в пути до работы:      не имеет значения\n",
            "Занятость:                   полная занятость\n",
            "График:                      вахтовый метод, удаленная работа, гибкий график, полный день, сменный график\n",
            "Опыт работы (мес):           156\n",
            "Обязанности на пред.работе:  Обработка входящих заявок (телефон, почта). Сопровождение клиентов на всех этапах сделки.Работа в си\n",
            "                             стемах CRM Bitrix24, QuickBooks.Назначение и координация водителей и грузчиков на заказы. Оперативно\n",
            "                             е решение возникающих проблем.Выезд к клиенту на оценку сложных и крупных переездов.Формирование и в\n",
            "                             ведение статистики, отчетов.Контроль качества исполнения заказов.Внедрение системы мотивации для мув\n",
            "                             еров и водителей., - Управление филиалами по Москве и Санкт - Петербургу.- Планирование маршрутов, р\n",
            "                             аспределение грузчиков, контроль разгрузки, погрузки.- Управление персоналом- Разработка и внедрение\n",
            "\n",
            "Модель уверена, что кандидат подходит в УИИ на: 11.67%\n",
            "---------------------------------------------------------------\n",
            "Подходит ли кандидат на самом деле:  нет\n",
            "---------------------------------------------------------------\n",
            "\n"
          ],
          "name": "stdout"
        }
      ]
    },
    {
      "cell_type": "code",
      "metadata": {
        "id": "jf2B9gjPVTzr",
        "colab": {
          "base_uri": "https://localhost:8080/"
        },
        "outputId": "b4eb2141-57dd-4437-e226-8eb6ec9f7bee"
      },
      "source": [
        "# Эксперимент. Многократное обучение и усредненеие результатов\n",
        "\n",
        "слои = 'Полносвязный-256\\\n",
        " Полносвязный-2' # Указываем слои создаваемой модели\n",
        "\n",
        "# Получаем входной размер данных\n",
        "входной_размер = терра_ии.получить_входной_размер(обучающая_выборка)\n",
        "\n",
        "# Создаем модель\n",
        "нейронка_вакансии_2 = терра_ии.создать_сеть(\n",
        "    слои = слои,\n",
        "    входной_размер = входной_размер,\n",
        "    задача='классификация вакансий'\n",
        "    )"
      ],
      "execution_count": null,
      "outputs": [
        {
          "output_type": "stream",
          "text": [
            "Создана модель нейронной сети!\n"
          ],
          "name": "stdout"
        }
      ]
    },
    {
      "cell_type": "code",
      "metadata": {
        "id": "apcga4Z2VhLY",
        "colab": {
          "base_uri": "https://localhost:8080/",
          "height": 609
        },
        "outputId": "04daed25-79fe-43da-ff73-81667a88294c"
      },
      "source": [
        "эксперимент_2 = терра_ии.обучение_модели(\n",
        "    нейронка_вакансии_2,\n",
        "    обучающая_выборка, метки_обучающей_выборки,\n",
        "    тестовая_выборка, метки_тестовой_выборки,\n",
        "    размер_пакета = 64,\n",
        "    количество_эпох = 150, \n",
        "    количество_запусков = 10)"
      ],
      "execution_count": null,
      "outputs": [
        {
          "output_type": "stream",
          "text": [
            "Запуск №1   Время обучения: 6.76c Точность на обучающей выборке: 96.0%       Точность на проверочной выборке: 88.26%\n",
            "Запуск №2   Время обучения: 6.1c  Точность на обучающей выборке: 98.0%       Точность на проверочной выборке: 89.39%\n",
            "Запуск №3   Время обучения: 5.98c Точность на обучающей выборке: 97.4%       Точность на проверочной выборке: 89.39%\n",
            "Запуск №4   Время обучения: 6.78c Точность на обучающей выборке: 97.6%       Точность на проверочной выборке: 89.39%\n",
            "Запуск №5   Время обучения: 6.0c  Точность на обучающей выборке: 98.0%       Точность на проверочной выборке: 89.39%\n",
            "Запуск №6   Время обучения: 6.18c Точность на обучающей выборке: 98.0%       Точность на проверочной выборке: 89.39%\n",
            "Запуск №7   Время обучения: 6.23c Точность на обучающей выборке: 97.8%       Точность на проверочной выборке: 89.39%\n",
            "\u001b[42m\u001b[37mЗапуск №8   Время обучения: 6.11c Точность на обучающей выборке: 97.0%       Точность на проверочной выборке: 89.77%\u001b[0m\n",
            "Запуск №9   Время обучения: 6.21c Точность на обучающей выборке: 97.2%       Точность на проверочной выборке: 89.77%\n",
            "Запуск №10  Время обучения: 6.02c Точность на обучающей выборке: 98.0%       Точность на проверочной выборке: 89.77%\n",
            "\n",
            "Средняя точность на обучающей выборке:    97.5% \n",
            "Средняя точность на проверочной выборке:  89.39%\n"
          ],
          "name": "stdout"
        },
        {
          "output_type": "display_data",
          "data": {
            "image/png": "[encoded data removed]",
            "text/plain": [
              "<Figure size 864x432 with 1 Axes>"
            ]
          },
          "metadata": {
            "tags": [],
            "needs_background": "light"
          }
        }
      ]
    },
    {
      "cell_type": "code",
      "metadata": {
        "id": "yKJuc4qyLgi-",
        "colab": {
          "base_uri": "https://localhost:8080/"
        },
        "outputId": "d999ff07-508e-4e9a-f742-e52fa033256d"
      },
      "source": [
        "терра_ии.тест_модели_вакансии(нейронка_вакансии_2,\n",
        "                        тестовая_выборка, метки_тестовой_выборки)"
      ],
      "execution_count": null,
      "outputs": [
        {
          "output_type": "stream",
          "text": [
            "Тестовое резюме:\n",
            "\n",
            "Пол:                         Ж\n",
            "Возраст:                     24\n",
            "Город:                       Москва\n",
            "Готовность к переезду:       готов к переезду\n",
            "Готовность к командировкам:  готов к командировкам\n",
            "Гражданство:                 Россия\n",
            "Разрешение на работу:        Россия\n",
            "Знания языков:               Армянский\n",
            "Образование:                 Высшее образование\n",
            "Дополнительное образование:  Данные не указаны\n",
            "Зарплата:                    60000.0\n",
            "Время в пути до работы:      не имеет значения\n",
            "Занятость:                   частичная занятость, полная занятость\n",
            "График:                      удаленная работа\n",
            "Опыт работы (мес):           27\n",
            "Обязанности на пред.работе:  Развитие контента в Instagram, привлечение клиентов, продажа мягкой мебели., Подбор туров и продажа \n",
            "                             их, работа с клиентами., Посещение мероприятий в качестве корреспондента/фотографа, беседа с гостями\n",
            "                             (интервью), написание текстов для печатного и электронного носителя., Посещение мероприятий в качест\n",
            "                             ве корреспондента, беседа с гостями (интервью), написание текстов для выпуска. Участие в прямых эфир\n",
            "                             ах., Вычитка, оценка и написание рецензий на детские работы для президентского конкурса «Россия устр\n",
            "                             емленная в будущее»., Посещение мероприятий, беседа с гостями (интервью), написание текстов для элек\n",
            "\n",
            "Модель уверена, что кандидат подходит в УИИ на: 0.01%\n",
            "---------------------------------------------------------------\n",
            "Подходит ли кандидат на самом деле:  нет\n",
            "---------------------------------------------------------------\n",
            "\n",
            "Тестовое резюме:\n",
            "\n",
            "Пол:                         М\n",
            "Возраст:                     34\n",
            "Город:                       Москва\n",
            "Готовность к переезду:       готов к переезду\n",
            "Готовность к командировкам:  готов к командировкам\n",
            "Гражданство:                 Россия\n",
            "Разрешение на работу:        Россия\n",
            "Знания языков:               Русский Английский\n",
            "Образование:                 Высшее образование\n",
            "Дополнительное образование:  Данные не указаны\n",
            "Зарплата:                    80000.0\n",
            "Время в пути до работы:      не имеет значения\n",
            "Занятость:                   стажировка, частичная занятость, проектная работа, полная занятость\n",
            "График:                      гибкий график, полный день, сменный график, вахтовый метод, удаленная работа\n",
            "Опыт работы (мес):           80\n",
            "Обязанности на пред.работе:  Работал в строительной фирме менеджером по продажам,по совместительству личным помощником ген.директ\n",
            "                             ора.Мои обязанности: поиск новых клиентов; взаимодействие с клиентами; поиск исполнителей; выезды на\n",
            "                              объекты;составление и просчёт смет;контроль качества выполненных работ;обратная связь;составление д\n",
            "                             оговоров и т.д!Встреча и сопровождение офиц.лиц !, Организация и проведение распродаж по Москве и М.\n",
            "                             О, Техн. документация,организация и контроль новых закупок,маркетинговое планирование,поиск новых кл\n",
            "                             иентов и т.д\n",
            "\n",
            "Модель уверена, что кандидат подходит в УИИ на: 98.89%\n",
            "---------------------------------------------------------------\n",
            "Подходит ли кандидат на самом деле:  да\n",
            "---------------------------------------------------------------\n",
            "\n",
            "Тестовое резюме:\n",
            "\n",
            "Пол:                         Ж\n",
            "Возраст:                     25\n",
            "Город:                       Рязань\n",
            "Готовность к переезду:       не готов к переезду\n",
            "Готовность к командировкам:  не готов к командировкам\n",
            "Гражданство:                 Россия\n",
            "Разрешение на работу:        Россия\n",
            "Знания языков:               Русский Английский\n",
            "Образование:                 Высшее образование\n",
            "Дополнительное образование:  Данные не указаны\n",
            "Зарплата:                    50000.0\n",
            "Время в пути до работы:      не имеет значения\n",
            "Занятость:                   частичная занятость, проектная работа, полная занятость\n",
            "График:                      удаленная работа\n",
            "Опыт работы (мес):           87\n",
            "Обязанности на пред.работе:  - Работа в СRM-системе- Сопровождение клиента до сделки- Консультирование по продукту- Обработка воз\n",
            "                             можных возражений- Заполнение отчетов по заявкам и клиентам, - Активные продажи;- Консультирование к\n",
            "                             лиентов;- Работа с кассой;- Мерчендайзинг., - Активные продажи;- Консультирование клиентов;- Работа \n",
            "                             с кассой, - Поиск и привлечение новых клиентов;- Курирование рекламных проектов;- Проведение перегов\n",
            "                             оров, составление и подписание договоров;- Ведение первичной бухгалтерии, - Консультирование клиенто\n",
            "                             в;- Работа с кассой;- Мерчендайзинг;- Управление персоналом;- Ведение отчетности;- Набор персонала;-\n",
            "\n",
            "Модель уверена, что кандидат подходит в УИИ на: 6.81%\n",
            "---------------------------------------------------------------\n",
            "Подходит ли кандидат на самом деле:  нет\n",
            "---------------------------------------------------------------\n",
            "\n"
          ],
          "name": "stdout"
        }
      ]
    },
    {
      "cell_type": "markdown",
      "metadata": {
        "id": "dEawMO3RYSYZ"
      },
      "source": [
        "# **Домашнее задание**"
      ]
    },
    {
      "cell_type": "code",
      "metadata": {
        "id": "qC14uC_lmy27"
      },
      "source": [
        "!pip -q install terra_ai\n",
        "from terra_ai import терра_ии"
      ],
      "execution_count": null,
      "outputs": []
    },
    {
      "cell_type": "markdown",
      "metadata": {
        "id": "EKxMunXYb_5b"
      },
      "source": [
        "## Задание № 1. Подбор кандидата на должность менеджера по продажам.  \n",
        "\n",
        "Создайте нейросеть, которая будет определять подходит ли кандидат на должность в Университете искусственного интеллекта.  \n",
        "\n",
        "1. Загрузите базу;  \n",
        "2. Покажите примеры из загруженной базы;  \n",
        "3. Сделайте предобработку данных для обучающей и тестовой выборки;  \n",
        "4. Создайте полносвязную модель;  \n",
        "5. Продемонстрируйте схему созданной модели;  \n",
        "6. Обучите свою модель;  \n",
        "7. Проведите тестирование модели.  \n",
        "\n",
        "Постарайтесь воспроизвести все этапы по памяти."
      ]
    },
    {
      "cell_type": "markdown",
      "metadata": {
        "id": "6_OQCuhfi7bC"
      },
      "source": [
        "### Работа с базой."
      ]
    },
    {
      "cell_type": "code",
      "metadata": {
        "id": "ZxvB8aaEhVsX"
      },
      "source": [
        "# Скачиваем базу вакансий\n",
        "терра_ии.загрузить_базу(база = ???,\n",
        "                        справка = ???)"
      ],
      "execution_count": null,
      "outputs": []
    },
    {
      "cell_type": "code",
      "metadata": {
        "id": "WtAImkbshVsh"
      },
      "source": [
        "# Примеры из базы\n",
        "терра_ии.показать_примеры(база = ???)"
      ],
      "execution_count": null,
      "outputs": []
    },
    {
      "cell_type": "markdown",
      "metadata": {
        "id": "9JqosOyOjC_x"
      },
      "source": [
        "Обработка базы и создание выборок."
      ]
    },
    {
      "cell_type": "code",
      "metadata": {
        "id": "quliYq4ohVsi"
      },
      "source": [
        "# Создаем обучающую и проверочную выборки\n",
        "(обучающая_выборка, метки_обучающей_выборки), (тестовая_выборка, метки_тестовой_выборки) = терра_ии.создать_выборки_вакансии()"
      ],
      "execution_count": null,
      "outputs": []
    },
    {
      "cell_type": "markdown",
      "metadata": {
        "id": "c9GBv7L2jqKh"
      },
      "source": [
        "### Создание сети"
      ]
    },
    {
      "cell_type": "markdown",
      "metadata": {
        "id": "89WkcSQlh4qC"
      },
      "source": [
        "Создайте нейронную сеть, которая будет включать в себя полносвязные слои в формате:\n",
        "\n",
        "```\n",
        "# Пример, Полносвязный-128 означает, что мы используем Полновязный слой на 128 нейронов.\n",
        "слои='Полносвязный-128\\\n",
        " Полносвязный-2'\n",
        "```\n",
        "Попробуйте изменить количество нейронов и обучите модель."
      ]
    },
    {
      "cell_type": "code",
      "metadata": {
        "id": "DaskQQ4WhVsi"
      },
      "source": [
        "# Указываем слои создаваемой модели\n",
        "слои = ???\n",
        "\n",
        "# Получаем входной размер данных\n",
        "входной_размер = терра_ии.получить_входной_размер(обучающая_выборка)\n",
        "\n",
        "# Создаем модель\n",
        "нейронка = терра_ии.создать_сеть(\n",
        "    слои = слои,\n",
        "    входной_размер = входной_размер,\n",
        "    задача='классификация изображений'\n",
        "    )"
      ],
      "execution_count": null,
      "outputs": []
    },
    {
      "cell_type": "markdown",
      "metadata": {
        "id": "uBVjjD9Hj_rJ"
      },
      "source": [
        "Визуализация структуры."
      ]
    },
    {
      "cell_type": "code",
      "metadata": {
        "id": "qiWQsMBohVsj"
      },
      "source": [
        "# Покажите структуру сети, с помощью функции из terra_ai. терра_ии.схема_модели(внутри функции указывается нейросеть, которую вы создали)\n",
        "???"
      ],
      "execution_count": null,
      "outputs": []
    },
    {
      "cell_type": "markdown",
      "metadata": {
        "id": "yiLjxzBHjt2J"
      },
      "source": [
        "### Обучение модели."
      ]
    },
    {
      "cell_type": "code",
      "metadata": {
        "id": "ycnznpGihVsj"
      },
      "source": [
        "# Обучаем модель\n",
        "эксперимент = терра_ии.обучение_модели(\n",
        "    нейронка,\n",
        "    обучающая_выборка, метки_обучающей_выборки,\n",
        "    тестовая_выборка, метки_тестовой_выборки,\n",
        "    размер_пакета = ???,\n",
        "    количество_эпох = ???)"
      ],
      "execution_count": null,
      "outputs": []
    },
    {
      "cell_type": "markdown",
      "metadata": {
        "id": "3YgR-I0Tj0cJ"
      },
      "source": [
        "### Тестирование модели."
      ]
    },
    {
      "cell_type": "code",
      "metadata": {
        "id": "G-axjPZRhVsk"
      },
      "source": [
        "терра_ии.тест_модели_вакансии(нейронка,\n",
        "                              тестовая_выборка, метки_тестовой_выборки)"
      ],
      "execution_count": null,
      "outputs": []
    },
    {
      "cell_type": "markdown",
      "metadata": {
        "id": "hNeiRyb_YXus"
      },
      "source": [
        "## Задание № 2. Классификация отзывов автомобиля Тесла.  \n",
        "\n",
        "Создайте нейросеть, которая будет распознавать эмоциональную окраску отзывов из базы Tesla.\n",
        "\n",
        "1. Загрузите базу;  \n",
        "2. Покажите примеры из загруженной базы;  \n",
        "3. Сделайте предобработку данных для обучающей и тестовой выборки;  \n",
        "4. Создайте полносвязную модель;  \n",
        "5. Продемонстрируйте схему созданной модели;  \n",
        "6. Обучите свою модель;  \n",
        "7. Проведите тестирование модели.  \n",
        "\n",
        "Постарайтесь воспроизвести все этапы по памяти."
      ]
    },
    {
      "cell_type": "markdown",
      "metadata": {
        "id": "t7eVaEDucGqP"
      },
      "source": [
        "### Работа с базой."
      ]
    },
    {
      "cell_type": "code",
      "metadata": {
        "id": "M-6BRYfgTE9z"
      },
      "source": [
        "# Загружаем базу отзывов Tesla\n",
        "терра_ии.загрузить_базу(база = ???, \n",
        "                        справка = ???)"
      ],
      "execution_count": null,
      "outputs": []
    },
    {
      "cell_type": "code",
      "metadata": {
        "id": "ae4EF8K7TG_6"
      },
      "source": [
        "# Выводим примеры\n",
        "терра_ии.показать_примеры(база = ???)"
      ],
      "execution_count": null,
      "outputs": []
    },
    {
      "cell_type": "markdown",
      "metadata": {
        "id": "5E3LvAt4boTa"
      },
      "source": [
        "Обработка базы и создание выборок."
      ]
    },
    {
      "cell_type": "code",
      "metadata": {
        "id": "GcdE4vNfTJUi"
      },
      "source": [
        "# Задаем параметры для формирования выборок\n",
        "количество_анализируемых_слов = ???\n",
        "размер_окна = ???\n",
        "шаг = ???\n",
        "# Создаем выборки для обучения нейронной сети\n",
        "(обучающая_выборка, метки_обучающей_выборки), (тестовая_выборка, метки_тестовой_выборки) = терра_ии.создать_текстовые_выборки(\n",
        "    количество_анализируемых_слов,\n",
        "    размер_окна,\n",
        "    шаг, \n",
        "    путь_к_базе = '/content/Отзывы/')"
      ],
      "execution_count": null,
      "outputs": []
    },
    {
      "cell_type": "markdown",
      "metadata": {
        "id": "3RwwQI8Rj6Oa"
      },
      "source": [
        "### Создание сети."
      ]
    },
    {
      "cell_type": "markdown",
      "metadata": {
        "id": "dHbMmjCtbhhA"
      },
      "source": [
        "Создайте сеть, состоящую из 3-х ветвей, в которую будут входить слои рассмотренные на вебинаре, такие как:\n",
        "\n",
        "*   Эмбеддинг\n",
        "*   Выравнивающий\n",
        "*   Полносвязный"
      ]
    },
    {
      "cell_type": "code",
      "metadata": {
        "id": "cYZSHgw_TMIi"
      },
      "source": [
        "# Создаем нейронную сеть\n",
        "ветвь1 = ''\n",
        "ветвь2 = '' \n",
        "ветвь3 = ''\n",
        "\n",
        "нейронка = терра_ии.создать_составную_сеть(\n",
        "    обучающая_выборка, метки_обучающей_выборки,\n",
        "    ветвь1, ветвь2, ветвь3)"
      ],
      "execution_count": null,
      "outputs": []
    },
    {
      "cell_type": "markdown",
      "metadata": {
        "id": "zGmjx2hEcQ6b"
      },
      "source": [
        "Визуализация структуры."
      ]
    },
    {
      "cell_type": "code",
      "metadata": {
        "id": "XAxSoT5STN7S"
      },
      "source": [
        "# Покажите структуру сети, с помощью функции из terra_ai. терра_ии.схема_модели(внутри функции указывается нейросеть, которую вы создали)\n",
        "???"
      ],
      "execution_count": null,
      "outputs": []
    },
    {
      "cell_type": "markdown",
      "metadata": {
        "id": "HqnScXNQcVjr"
      },
      "source": [
        "### Обучение модели."
      ]
    },
    {
      "cell_type": "code",
      "metadata": {
        "id": "M9CH9y0oTQWD"
      },
      "source": [
        "# Обучаем модель\n",
        "эксперимент = терра_ии.обучение_модели(\n",
        "    нейронка,\n",
        "    обучающая_выборка, метки_обучающей_выборки,\n",
        "    тестовая_выборка, метки_тестовой_выборки,\n",
        "    размер_пакета = ???,\n",
        "    количество_эпох = ???)"
      ],
      "execution_count": null,
      "outputs": []
    },
    {
      "cell_type": "markdown",
      "metadata": {
        "id": "MGIpE4UUcehH"
      },
      "source": [
        "### Тестирование модели."
      ]
    },
    {
      "cell_type": "markdown",
      "metadata": {
        "id": "9TBEWEnnkGtw"
      },
      "source": [
        "Придумайте и напишите свой отзыв."
      ]
    },
    {
      "cell_type": "code",
      "metadata": {
        "id": "7Kh3QvCrTSRC"
      },
      "source": [
        "# Демонстрация результата работы нейронной сети\n",
        "отзыв = ''\n",
        "терра_ии.тест_модели_симптомы(нейронка, размер_окна, шаг,\n",
        "                              отзыв, классы = ['Негативный отзыв', 'Позитивный отзыв'])"
      ],
      "execution_count": null,
      "outputs": []
    },
    {
      "cell_type": "markdown",
      "metadata": {
        "id": "cZsdBFEdSl4v"
      },
      "source": [
        "## Задание № 3. Определение заболевания по симптомам.  \n",
        "\n",
        "Создайте нейросеть, которая будет определять заболевание по симптомам.\n",
        "\n",
        "1. Загрузите базу;  \n",
        "2. Покажите примеры из загруженной базы;  \n",
        "3. Сделайте предобработку данных для обучающей и тестовой выборки;  \n",
        "4. Создайте полносвязную модель;  \n",
        "5. Продемонстрируйте схему созданной модели;  \n",
        "6. Обучите свою модель;  \n",
        "7. Проведите тестирование модели."
      ]
    },
    {
      "cell_type": "markdown",
      "metadata": {
        "id": "YMZWrBeCUwFV"
      },
      "source": [
        "### Работа с базой."
      ]
    },
    {
      "cell_type": "code",
      "metadata": {
        "id": "6V9MVxmPmpNB"
      },
      "source": [
        "# Загрузите базу симптомов заболеваний\n",
        "терра_ии.загрузить_базу(база = 'СИМПТОМЫ ЗАБОЛЕВАНИЙ',\n",
        "                        справка = ???)"
      ],
      "execution_count": null,
      "outputs": []
    },
    {
      "cell_type": "code",
      "metadata": {
        "id": "iryUefF3yOKS"
      },
      "source": [
        "# Покажите примеры из базы \"симптомы\"\n",
        "терра_ии.показать_примеры(база = 'симптомы')"
      ],
      "execution_count": null,
      "outputs": []
    },
    {
      "cell_type": "code",
      "metadata": {
        "id": "78xGu5UMS0Fs"
      },
      "source": [
        "количество_анализируемых_слов = ???\n",
        "размер_окна = ???\n",
        "шаг = ???\n",
        "\n",
        "# Создаем выборки для обучения нейронной сети\n",
        "(обучающая_выборка, метки_обучающей_выборки), (тестовая_выборка, метки_тестовой_выборки) = терра_ии.создать_текстовые_выборки(\n",
        "    количество_анализируемых_слов,\n",
        "    размер_окна, \n",
        "    шаг)"
      ],
      "execution_count": null,
      "outputs": []
    },
    {
      "cell_type": "markdown",
      "metadata": {
        "id": "YP_x-3IoF9Xw"
      },
      "source": [
        "### Создание сети.\n",
        "Состоящую из 3-х ветвей, в которую будут входить слои рассмотренные на вебинаре, такие как:\n",
        "\n",
        "*   Эмбеддинг\n",
        "*   Выравнивающий\n",
        "*   Полносвязный\n",
        "\n"
      ]
    },
    {
      "cell_type": "code",
      "metadata": {
        "id": "yv84cu6kxcrx"
      },
      "source": [
        "# Создаем нейронную сеть\n",
        "ветвь1 = ''\n",
        "ветвь2 = ''\n",
        "ветвь3 = ''\n",
        "нейронка = терра_ии.создать_составную_сеть(\n",
        "    обучающая_выборка, метки_обучающей_выборки,\n",
        "    ветвь1, ветвь2, ветвь3)"
      ],
      "execution_count": null,
      "outputs": []
    },
    {
      "cell_type": "markdown",
      "metadata": {
        "id": "pTNVVGjcVA28"
      },
      "source": [
        "Визуализация модели."
      ]
    },
    {
      "cell_type": "code",
      "metadata": {
        "id": "kXDNL1dfMi6z"
      },
      "source": [
        "# Покажите структуру сети, с помощью функции из terra_ai. терра_ии.схема_модели(внутри функции указывается нейросеть, которую вы создали)\n",
        "???"
      ],
      "execution_count": null,
      "outputs": []
    },
    {
      "cell_type": "markdown",
      "metadata": {
        "id": "Lt3HG5X6HKvm"
      },
      "source": [
        "### Обучение нейронной сети.\n",
        "Используя свою модель, примените функцию из terra ai:\n",
        "*   терра_ии.обучение_модели()\n",
        "\n",
        "\n"
      ]
    },
    {
      "cell_type": "code",
      "metadata": {
        "id": "ZLohMLxSS0Ft"
      },
      "source": [
        "# Обучаем модель\n",
        "эксперимент = терра_ии.обучение_модели(\n",
        "    нейронка,\n",
        "    обучающая_выборка, метки_обучающей_выборки,\n",
        "    тестовая_выборка, метки_тестовой_выборки,\n",
        "    размер_пакета = ???,\n",
        "    количество_эпох = ???)"
      ],
      "execution_count": null,
      "outputs": []
    },
    {
      "cell_type": "markdown",
      "metadata": {
        "id": "WXnstvNcH1c_"
      },
      "source": [
        "### Продемонстрируйте работу нейронной сети\n",
        "Используя обученую модель для симптомов указанных в ячейке, примените функцию из terra ai:\n",
        "*   терра_ии.тест_модели_симптомы()  \n",
        "\n",
        "Можете создать другой перечень симптомов и посмотреть насколько успешно модель справляется."
      ]
    },
    {
      "cell_type": "code",
      "metadata": {
        "id": "BJiQ-eZoIKWD"
      },
      "source": [
        "# Демонстрация результата работы нейронной сети\n",
        "симптомы = 'общую слабость;повышение температуры тела;систематические приступы тошноты;регулярную рвоту с примесями желчи.'\n",
        "терра_ии.тест_модели_симптомы(нейронка, размер_окна, шаг,\n",
        "                              симптомы, классы=['Колит', 'Гепатит', 'Гастрит', 'Холицестит', 'Дуоденит', 'Энтерит', 'Язва', 'Эзофагит', 'Аппендицит', 'Панкреатит'])"
      ],
      "execution_count": null,
      "outputs": []
    }
  ]
}